{
 "cells": [
  {
   "cell_type": "markdown",
   "metadata": {
    "id": "M59psG9X7lCB"
   },
   "source": [
    "# Semana 7"
   ]
  },
  {
   "cell_type": "markdown",
   "metadata": {
    "id": "iXENWbqL7omP"
   },
   "source": [
    "## Interfaces Gráficas em Python"
   ]
  },
  {
   "cell_type": "markdown",
   "metadata": {
    "id": "lvKIhZfa7ofE"
   },
   "source": [
    "Para implementar programas com interfaces\n",
    "gráficas (GUI) é necessário fazer uso de APIs\n",
    "que fornecem funções para criação de\n",
    "janelas, botões, gráficos e gerenciamento de\n",
    "eventos.\n",
    "\n",
    "Neste curso, utilizaremos o módulo tkinter, da\n",
    "biblioteca padrão Python."
   ]
  },
  {
   "cell_type": "markdown",
   "metadata": {
    "id": "C65koPYj7oYH"
   },
   "source": [
    "Nosso primeiro exemplo será uma janela\n",
    "simples, sem qualquer funcionalidade."
   ]
  },
  {
   "cell_type": "code",
   "execution_count": null,
   "metadata": {
    "colab": {
     "base_uri": "https://localhost:8080/",
     "height": 334
    },
    "id": "20RLm6w39DFG",
    "outputId": "5890689a-2381-4463-e16a-f5efab287cb6"
   },
   "outputs": [],
   "source": [
    "from tkinter import Tk\n",
    "root = Tk()\n",
    "root.mainloop()"
   ]
  },
  {
   "cell_type": "markdown",
   "metadata": {
    "id": "R8ZipdGX7oTA"
   },
   "source": [
    "Podemos adicionar um texto dentro da janela,\n",
    "para isso usamos o widget Label:"
   ]
  },
  {
   "cell_type": "code",
   "execution_count": null,
   "metadata": {},
   "outputs": [],
   "source": [
    "from tkinter import Tk, Label\n",
    "root = Tk()\n",
    "hello = Label(master = root, text = 'Ola classe')\n",
    "hello.pack()\n",
    "root.mainloop()"
   ]
  },
  {
   "cell_type": "markdown",
   "metadata": {
    "id": "KSfj_eCy7oPF"
   },
   "source": [
    "Há várias opções para alterar o estilo do texto."
   ]
  },
  {
   "cell_type": "markdown",
   "metadata": {
    "id": "i1qz3JPq7oLL"
   },
   "source": [
    "Inserindo uma imagem na janela:"
   ]
  },
  {
   "cell_type": "code",
   "execution_count": null,
   "metadata": {},
   "outputs": [],
   "source": [
    "from tkinter import Tk,Label,PhotoImage\n",
    "root = Tk()\n",
    "photo = PhotoImage(file='computer.gif').subsample(5)\n",
    "hello = Label(master=root, image=photo, width=300,height=180)\n",
    "hello.image = photo\n",
    "hello.pack()\n",
    "root.mainloop()"
   ]
  },
  {
   "cell_type": "markdown",
   "metadata": {
    "id": "YlYKpVlv7oHe"
   },
   "source": [
    "A posição de componentes na janela é\n",
    "gerenciada pelo geometry manager da tkinter,\n",
    "a partir de diretivas definidas pelo\n",
    "programador.\n",
    "\n",
    "O método pack() é uma forma de fornecer\n",
    "essas diretivas ao sistema."
   ]
  },
  {
   "cell_type": "markdown",
   "metadata": {
    "id": "nP0JKSGY7oD6"
   },
   "source": [
    "**Exemplo**"
   ]
  },
  {
   "cell_type": "code",
   "execution_count": null,
   "metadata": {},
   "outputs": [],
   "source": [
    "from tkinter import Tk, Label, PhotoImage, TOP, BOTTOM\n",
    "root = Tk()\n",
    "photo = PhotoImage(file='computer.gif').subsample(5)\n",
    "image = Label(master=root, image=photo)\n",
    "image.pack(side=TOP)\n",
    "text = Label(master=root, font=(\"Courier\", 18),\n",
    "text='Olá alunos da UNIVESP!')\n",
    "text.pack(side=BOTTOM)\n",
    "root.mainloop()"
   ]
  },
  {
   "cell_type": "markdown",
   "metadata": {
    "id": "_ECMx3XW7oAR"
   },
   "source": [
    "Outras opções do método pack():\n",
    "<img src=\"\" />\n",
    "\n"
   ]
  },
  {
   "cell_type": "markdown",
   "metadata": {
    "id": "FPkpB1Ga7n8n"
   },
   "source": [
    "Uma outra opção para fornecer as diretivas ao\n",
    "geometry manager é por meio do método\n",
    "grid().\n",
    "\n",
    "Com ele, a janela é dividida em linhas e\n",
    "colunas, e cada célula pode armazenar um\n",
    "widget."
   ]
  },
  {
   "cell_type": "markdown",
   "metadata": {
    "id": "4n0D3k4l7n5B"
   },
   "source": [
    "**Exemplo**"
   ]
  },
  {
   "cell_type": "code",
   "execution_count": null,
   "metadata": {},
   "outputs": [],
   "source": [
    "from tkinter import Tk, Label, RAISED\n",
    "root = Tk()\n",
    "labels = [['1', '2', '3'],\n",
    "         ['4', '5', '6'],\n",
    "         ['7', '8', '9'],\n",
    "          ['*', '0', '#']]\n",
    "for r in range(4):\n",
    "    for c in range(3):\n",
    "        label = Label(root, relief=RAISED, padx=10, text=labels[r][c])\n",
    "        label.grid(row=r, column=c)\n",
    "root.mainloop()"
   ]
  },
  {
   "cell_type": "markdown",
   "metadata": {
    "id": "DMtu3hyw7n2E"
   },
   "source": [
    "## Interfaces Gráficas em Python (Parte II)\n"
   ]
  },
  {
   "cell_type": "markdown",
   "metadata": {
    "id": "uuBvNpRs7nzD"
   },
   "source": [
    "Agora, veremos como adicionar\n",
    "funcionalidade aos widgets criados.\n",
    "\n",
    "Utilizaremos a abordagem de programação\n",
    "orientada a eventos."
   ]
  },
  {
   "cell_type": "markdown",
   "metadata": {
    "id": "q3P3K8Tv7nwU"
   },
   "source": [
    "Quando uma interface gráfica é iniciada com a\n",
    "função mainloop(), o interpretador inicia um loop\n",
    "infinito chamado de loop de evento. Seu\n",
    "pseudocódigo é:\n",
    "```\n",
    "while True:\n",
    "    aguarde até um evento ocorrer\n",
    "    execute a função de tratamento do evento associada\n",
    "```\n",
    "Eventos possíveis: clicar, movimentar o mouse,\n",
    "pressionar um tecla, etc."
   ]
  },
  {
   "cell_type": "markdown",
   "metadata": {
    "id": "mUl-TJEt7ntr"
   },
   "source": [
    "**Primeiro exemplo** : janela com um botão que,\n",
    "quando clicado, exibe o dia e a hora na tela."
   ]
  },
  {
   "cell_type": "code",
   "execution_count": null,
   "metadata": {},
   "outputs": [],
   "source": [
    "from tkinter import Tk, Button, Label\n",
    "from tkinter.messagebox import showinfo\n",
    "from time import strftime, localtime\n",
    "\n",
    "def clicked():\n",
    "    time = strftime('Day: %d %b %Y\\nTime: %H:%M:%S%p\\n', localtime())\n",
    "    showinfo(message=time)\n",
    "\n",
    "root = Tk()\n",
    "button = Button(root, text='Clique', command=clicked)\n",
    "button.pack()\n",
    "root.mainloop()"
   ]
  },
  {
   "cell_type": "markdown",
   "metadata": {
    "id": "NYi0atvm7nrJ"
   },
   "source": [
    "**Segundo Exemplo**: caixa de inserção de texto."
   ]
  },
  {
   "cell_type": "code",
   "execution_count": null,
   "metadata": {},
   "outputs": [],
   "source": [
    "from tkinter import Tk, Button, Label, Entry\n",
    "from tkinter.messagebox import showinfo\n",
    "from time import strftime, strptime\n",
    "def compute():\n",
    "    global entry\n",
    "    date = entry.get()\n",
    "    weekday = strftime('%A', strptime(date, '%b %d, %Y'))\n",
    "    showinfo(message='{} was a {}'.format(date, weekday))\n",
    "    \n",
    "root = Tk()\n",
    "label = Label(root, text='Digite uma data: ')\n",
    "label.grid(row=0, column=0)\n",
    "entry = Entry(root)\n",
    "entry.grid(row=0, column=1)\n",
    "button = Button(root, text='Enter', command=compute)\n",
    "button.grid(row=1, column=0, columnspan=2)\n",
    "root.mainloop()"
   ]
  },
  {
   "cell_type": "markdown",
   "metadata": {
    "id": "cWeuAynI7nos"
   },
   "source": [
    "**Terceiro exemplo**: caixa de texto com\n",
    "diferentes eventos."
   ]
  },
  {
   "cell_type": "code",
   "execution_count": null,
   "metadata": {},
   "outputs": [],
   "source": []
  },
  {
   "cell_type": "markdown",
   "metadata": {
    "id": "r5hfaOiK7nmK"
   },
   "source": [
    "Neste exemplo, usamos o widget Text, que\n",
    "funciona como um editor de texto.\n",
    "Também usamos o método bind() para poder\n",
    "associar diferentes eventos às suas respectivas\n",
    "funções de tratamento.\n",
    "Para isso, precisamos entender os padrões de\n",
    "evento, que possuem o seguinte formato geral:\n",
    "\n",
    " < modificador-modificador-tipo-detalhe >"
   ]
  },
  {
   "cell_type": "markdown",
   "metadata": {
    "id": "akXPv1Y37nj9"
   },
   "source": [
    "Exemplos:\n",
    "* < Control-Button-1>:\n",
    "Pressionar Ctrl e botão\n",
    "esquerdo do mouse,\n",
    "simultaneamente.\n",
    "* < Button-1>< Button-3>:\n",
    "Pressionar botão\n",
    "esquerdo e em seguida o\n",
    "direito do mouse.\n",
    "* < KeyPress-D > < Return >:\n",
    "Pressionar D e depois\n",
    "Enter"
   ]
  },
  {
   "cell_type": "code",
   "execution_count": null,
   "metadata": {},
   "outputs": [],
   "source": [
    "from tkinter import Tk, Text, BOTH\n",
    "def key_pressed(event):\n",
    "    print('char: {}'.format(event.keysym))\n",
    "def mouse_clicked_left(event):\n",
    "    print('mouse left clicked')\n",
    "def mouse_clicked_right(event):\n",
    "    print('mouse right clicked')\n",
    "\n",
    "root = Tk()\n",
    "text = Text(root, width=20, height='5')\n",
    "text.bind('<KeyPress>', key_pressed)\n",
    "text.bind('<Button-1>', mouse_clicked_left)\n",
    "text.bind('<Button-2>', mouse_clicked_right)\n",
    "text.pack(expand=True, fill=BOTH)\n",
    "root.mainloop()"
   ]
  },
  {
   "cell_type": "markdown",
   "metadata": {
    "id": "a_vT88Rg7nhz"
   },
   "source": [
    "## Exercício de apoio"
   ]
  },
  {
   "cell_type": "markdown",
   "metadata": {
    "id": "MRytb7a07nfz"
   },
   "source": [
    "Problema Prático 9.1\n",
    "\n",
    "Escreva um programa peaceandlove.py que cria esta GUI:\n",
    "\n",
    "<img src = \"https://jigsaw.minhabiblioteca.com.br/books/9788521630937/epub/OEBPS/Images/f0317-01.png\">\n",
    "\n",
    "Arquivo: peace.gif\n",
    "\n",
    "O label de texto “Paz & Amor” deverá ser empurrado para a esquerda e ter um fundo preto com tamanho para caber 5 linhas de 20 caracteres. Se o usuário expandir a janela, o label deverá permanecer colado à borda esquerda da janela. A imagem do símbolo da paz deverá ser empurrada para a direita. Porém, quando o usuário expande a janela, o fundo branco deverá preencher o espaço criado. A figura mostra a GUI depois que o usuário a expandiu manualmente."
   ]
  },
  {
   "cell_type": "code",
   "execution_count": null,
   "metadata": {},
   "outputs": [],
   "source": [
    "from tkinter import Tk, Label, PhotoImage, BOTH, RIGHT, LEFT\n",
    "raiz = Tk()\n",
    "label1 = Label(raiz, text=\"Peace & Love\", background='black',\n",
    "width=20, height=5, foreground='white', font=('Helvetica', 18, 'italic'))\n",
    "label1.pack(side=LEFT)\n",
    "photo = PhotoImage(file='peace.gif')\n",
    "label2 = Label(raiz, image=photo)\n",
    "label2.image = photo\n",
    "label2.pack(side=RIGHT, expand=True, fill=BOTH)\n",
    "raiz.mainloop()"
   ]
  },
  {
   "cell_type": "markdown",
   "metadata": {
    "id": "uKOdc3UH7ndj"
   },
   "source": [
    "Problema Prático 9.2\n",
    "\n",
    "Implemente a função cal() que aceita como entrada um ano e um mês (um número entre 1 e 12) e começa com uma GUI que mostra o calendário correspondente. Por exemplo, o calendário mostrado é obtido usando:\n",
    "```\n",
    "cal(2012, 2)\n",
    "```\n",
    "<img src = \"https://jigsaw.minhabiblioteca.com.br/books/9788521630937/epub/OEBPS/Images/f0319-01.png\">\n",
    "\n",
    "Para fazer isso, você precisará calcular (1) o dia da semana (segunda, terça,…) referente ao primeiro dia do mês e (2) o número de dias no mês (levando em consideração os anos bissextos). A função monthrange(), definida no módulo calendar, retorna exatamente esses dois valores:\n",
    "```\n",
    "from calendar import monthrange\n",
    "monthrange(2012, 2)   # ano 2012, mês 2 (fevereiro)\n",
    "(2, 29)\n",
    "```\n",
    "O valor retornado é uma tupla. O primeiro valor na tupla, 2, corresponde à quarta-feira (segunda é 0, terça é 1 etc.). O segundo valor, 29, é o número de dias em fevereiro no ano 2012, um ano bissexto."
   ]
  },
  {
   "cell_type": "code",
   "execution_count": null,
   "metadata": {},
   "outputs": [],
   "source": [
    "from calendar import monthrange\n",
    "from tkinter import Tk,Button, Frame,Label\n",
    "\n",
    "\n",
    "def cal(year,month):\n",
    "    raiz = Tk()    \n",
    "    days = ['Seg', 'Ter', 'Qua', 'Qui', 'Sex', 'Sáb', 'Dom']\n",
    "    # cria e posiciona labels de dia da semana\n",
    "    for i in range(7):\n",
    "        label = Label(raiz, text=days[i])\n",
    "        label.grid(row=0,column=i)\n",
    "    # obtém o dia da semana para o primeiro dia do mês e\n",
    "    # o número de dias no mês\n",
    "    weekday, numDays = monthrange(year, month)\n",
    "    # cria calendário iniciando na semana (linha) 1 e dia (coluna) 1\n",
    "    week = 1\n",
    "    for i in range(1, numDays+1): # para i = 1, 2, …, numDays\n",
    "    # cria label i e o coloca na linha week, coluna weekday\n",
    "        label = Label(raiz, text=str(i))\n",
    "        label.grid(row=week, column=weekday)\n",
    "        # atualiza weekday (coluna) e week (linha)\n",
    "        weekday += 1\n",
    "        if weekday > 6:\n",
    "            week += 1\n",
    "            weekday = 0\n",
    "    \n",
    "    raiz.mainloop()\n",
    "cal(2012, 2)"
   ]
  },
  {
   "cell_type": "markdown",
   "metadata": {
    "id": "ob4A_ckn7nbi"
   },
   "source": [
    "Problema Prático 9.3\n",
    "\n",
    "Implemente um aplicativo GUI que contenha dois botões rotulados “Hora local” e “Hora de Greenwich”. Quando o primeiro botão é pressionado, a Hora local deverá aparecer no shell. Quando o segundo botão é pressionado, a Hora de Greenwich deve ser exibida.\n",
    "```\n",
    ">>>\n",
    "Hora local\n",
    "Dia:  08 Jul 2011\n",
    "Hora: 13:19:43 PM\n",
    "```\n",
    "```\n",
    "Hora de Greenwich\n",
    "Dia:  08 Jul 2011\n",
    "Hora: 18:19:46 PM\n",
    "```\n",
    "Você pode obter a Hora de Greenwich usando a função gmtime() do módulo time.\n",
    "\n"
   ]
  },
  {
   "cell_type": "code",
   "execution_count": null,
   "metadata": {
    "id": "KtldrrHT7nY8"
   },
   "outputs": [],
   "source": [
    "from tkinter import Tk, Label, PhotoImage, BOTH, RIGHT, LEFT\n",
    "from time import strftime, localtime,gmtime\n",
    "\n",
    "def greenwich():\n",
    "    'exibe informações de dia e hora de Greenwich'\n",
    "    time = strftime('Dia: %d %b %Y\\nHora: %H:%M:%S %p\\n',\n",
    "    gmtime())\n",
    "    print('Hora de Greenwich\\n' + time)\n",
    "\n",
    "def local():\n",
    "    'exibe informações de dia e hora local'\n",
    "    time = strftime('Dia: %d %b %Y\\nHora: %H:%M:%S %p\\n',\n",
    "    localtime())\n",
    "    print('Hora local \\n' + time)\n",
    "\n",
    "\n",
    "# Botão de hora local\n",
    "raiz = Tk()\n",
    "buttonl = Button(raiz, text='Hora local', command=local)\n",
    "buttonl.pack(side=LEFT)\n",
    "\n",
    "# Botão de hora média de Greenwich\n",
    "buttong = Button(raiz,text='Hora de Greenwich',command=greenwich)\n",
    "buttong.pack(side=RIGHT)\n",
    "\n",
    "raiz.mainloop()"
   ]
  },
  {
   "cell_type": "markdown",
   "metadata": {
    "id": "_mXZv0Iv7nV3"
   },
   "source": [
    "Problema Prático 9.4\n",
    "\n",
    "Implemente uma variação do programa day.py, chamado day2.py. Em vez de exibir a mensagem do dia da semana em uma janela pop-up separada, insira-a na frente da data na caixa de entrada, conforme mostrado. Inclua também um botão rotulado com “Apagar”, que apaga a caixa de entrada.\n",
    "\n",
    "<img src= \"https://jigsaw.minhabiblioteca.com.br/books/9788521630937/epub/OEBPS/Images/f0325-01.png\">\n"
   ]
  },
  {
   "cell_type": "code",
   "execution_count": null,
   "metadata": {
    "id": "yTnlss3u7nUC"
   },
   "outputs": [],
   "source": [
    "from tkinter import Tk, Label, BOTH, RIGHT, LEFT,Entry\n",
    "from time import strftime,strptime\n",
    "from tkinter import Tk, Button, Entry, Label, END\n",
    "from time import strptime, strftime\n",
    "from tkinter.messagebox import showinfo\n",
    "\n",
    "def compute():\n",
    "    global dateEnt    # aviso de que dateEnt é uma variável global\n",
    "    # lê data da entrada dateEnt\n",
    "    date = dateEnt.get()\n",
    "    # calcula dia da semana correspondente à data\n",
    "    weekday = strftime('%A', strptime(date, '%b %d, %Y'))\n",
    "    # exibe o dia da semana em uma janela pop-up\n",
    "    dateEnt.insert(0, weekday+' ')\n",
    "def clear():\n",
    "    'apaga a entrada dateEnt'\n",
    "    global dateEnt\n",
    "    dateEnt.delete(0, END)\n",
    "    \n",
    "# Botão Entrar\n",
    "raiz = Tk()\n",
    "label = Label(raiz, text='Digite a data')\n",
    "label.grid(row=0, column=0)\n",
    "\n",
    "dateEnt = Entry(raiz)\n",
    "\n",
    "dateEnt.grid(row=0, column=1)\n",
    "button = Button(raiz, text='Entra ', command=compute)\n",
    "button.grid(row=1, column=0)\n",
    "\n",
    "# Botão Apagar\n",
    "button = Button(raiz, text='Apagar', command=clear)\n",
    "button.grid(row=1, column=1)\n",
    "\n",
    "raiz.mainloop()"
   ]
  },
  {
   "cell_type": "markdown",
   "metadata": {
    "id": "qnoa440D7nSh"
   },
   "source": [
    "Problema Prático 9.5\n",
    "\n",
    "No programa day.py original, o usuário precisa clicar no botão “Entrar” depois de digitar uma data na caixa de entrada. Exigir que o usuário use o mouse logo depois de digitar uma data usando o teclado é uma inconveniência. Modifique o programa day.py para permitir que o usuário simplesmente pressione a tecla Enter/Return no teclado em vez de clicar no botão “Entrar”."
   ]
  },
  {
   "cell_type": "code",
   "execution_count": null,
   "metadata": {},
   "outputs": [],
   "source": [
    "from tkinter import Tk, Label, BOTH, RIGHT, LEFT,Entry\n",
    "from time import strftime,strptime\n",
    "from tkinter import Tk, Button, Entry, Label, END\n",
    "from time import strptime, strftime\n",
    "from tkinter.messagebox import showinfo\n",
    "\n",
    "def compute():\n",
    "    global dateEnt    # aviso de que dateEnt é uma variável global\n",
    "    # lê data da entrada dateEnt\n",
    "    date = dateEnt.get()\n",
    "    # calcula dia da semana correspondente à data\n",
    "    weekday = strftime('%A', strptime(date, '%b %d, %Y'))\n",
    "    # exibe o dia da semana em uma janela pop-up\n",
    "    dateEnt.insert(0, weekday+' ')\n",
    "def clear():\n",
    "    'apaga a entrada dateEnt'\n",
    "    global dateEnt\n",
    "    dateEnt.delete(0, END)\n",
    "def compute2(event):\n",
    "    compute()\n",
    "\n",
    "# Botão Entrar\n",
    "raiz = Tk()\n",
    "label = Label(raiz, text='Digite a data')\n",
    "label.grid(row=0, column=0)\n",
    "\n",
    "dateEnt = Entry(raiz)\n",
    "\n",
    "\n",
    "dateEnt.grid(row=0, column=1)\n",
    "button = Button(raiz, text='Entra ', command=compute)\n",
    "button.grid(row=1, column=0)\n",
    "\n",
    "dateEnt.bind('<Return>', compute2)\n",
    "\n",
    "# Botão Apagar\n",
    "button = Button(raiz, text='Apagar', command=clear)\n",
    "button.grid(row=1, column=1)\n",
    "\n",
    "raiz.mainloop()"
   ]
  },
  {
   "cell_type": "markdown",
   "metadata": {
    "id": "i_A5aC7B7nRF"
   },
   "source": [
    "Problema Prático 9.6\n",
    "\n",
    "Implemente o programa draw2.py, uma modificação de draw.py, que aceita a exclusão da última curva desenhada na tela pressionando Ctrl e o botão esquerdo do mouse simultaneamente. Para fazer isso, você precisará excluir todos os segmentos de linha curtos criados por create_line() que compõem a última curva. Isso, por sua vez, significa que você precisa armazenar todos os segmentos que formam a última curva em algum tipo de contêiner."
   ]
  },
  {
   "cell_type": "code",
   "execution_count": null,
   "metadata": {},
   "outputs": [],
   "source": [
    "from tkinter import Tk, Canvas\n",
    "def begin(event):\n",
    "    'inicializa o início da curva na posição do mouse'\n",
    "    global oldx, oldy,curve\n",
    "    oldx, oldy = event.x, event.y\n",
    "    curve = []\n",
    "\n",
    "def draw(event):\n",
    "    'desenha um segmento de linha da antiga posição do mouse para a nova'\n",
    "    global oldx, oldy, canvas,curve      # x e y serão mudados\n",
    "\n",
    "    newx, newy = event.x, event.y  # nova posição do mouse\n",
    "    curve.append(canvas.create_line(oldx, oldy, newx, newy))\n",
    "    #canvas.create_line(oldx, oldy, newx, newy)\n",
    "    oldx, oldy = newx, newy    # nova posição torna-se anterior\n",
    "def delete(event):\n",
    "    'exclui última curva desenhada'\n",
    "    global curve\n",
    "    for segment in curve:\n",
    "        canvas.delete(segment)\n",
    "\n",
    "\n",
    "root = Tk()\n",
    "\n",
    "oldx, oldy = 0, 0  # coordenadas do mouse (variáveis globais)\n",
    "\n",
    "canvas = Canvas(root, height=100, width=150)\n",
    "canvas.bind(\"<Button -1>\", begin)\n",
    "\n",
    "\n",
    "canvas.bind(\"<Button1 -Motion>\", draw)\n",
    "\n",
    "canvas.bind('<Control-Button-1>', delete)\n",
    "\n",
    "\n",
    "\n",
    "canvas.pack()\n",
    "\n",
    "root.mainloop()"
   ]
  },
  {
   "cell_type": "markdown",
   "metadata": {
    "id": "HtOwH6477nNl"
   },
   "source": [
    "Problema Prático 9.7\n",
    "\n",
    "Complete a implementação das funções down(), left() e right() no programa plotter.py."
   ]
  },
  {
   "cell_type": "code",
   "execution_count": null,
   "metadata": {},
   "outputs": [],
   "source": [
    "from tkinter import Tk, Canvas, Frame,Button, SUNKEN, LEFT, RIGHT\n",
    "def up():\n",
    "    'move caneta 10 pixels para cima'\n",
    "    global y, canvas                  # y é modificado\n",
    "    canvas.create_line(x, y, x, y-10)\n",
    "    y -= 10\n",
    "    \t\n",
    "def down():\n",
    "    'move caneta 10 pixels para baixo'\n",
    "    global y, canvas                   # y é modificado\n",
    "    canvas.create_line(x, y, x, y+10)\n",
    "    y += 10\n",
    "\n",
    "def left():\n",
    "    'move caneta 10 pixels para a esquerda'\n",
    "    global x, canvas                   # x é modificado\n",
    "    canvas.create_line(x, y, x-10, y)\n",
    "    x -= 10\n",
    "\n",
    "def right():\n",
    "    'move caneta 10 pixels para a direita'\n",
    "    global x, canvas                   # x é modificado\n",
    "    canvas.create_line(x, y, x+10, y)\n",
    "    x += 10\n",
    "# manipuladores de evento up(), down(), left() e right()\n",
    "root = Tk()\n",
    "# tela com borda de tamanho 100 x 150\n",
    "canvas = Canvas(root, height=100, width=150,relief=SUNKEN, borderwidth=3)\n",
    "canvas.pack(side=LEFT)\n",
    "\n",
    "# frame para manter os 4 botões\n",
    "box = Frame(root)\n",
    "box.pack(side=RIGHT)\n",
    "# os 4 widgets de botão têm a caixa do widget Frame como seu master\n",
    "button = Button(box, text='up',command=up)\n",
    "button.grid(row=0, column=0,columnspan=2)\n",
    "button = Button(box, text='left',command=left)\n",
    "button.grid(row=1, column=0)\n",
    "button = Button(box, text='right',command=right)\n",
    "button.grid(row=1, column=1)\n",
    "button = Button(box, text='down',command=down)\n",
    "button.grid(row=2, column=0,columnspan=2)\n",
    "x,y = 50, 75 # posição da caneta, inicialmente no meio\n",
    "root.mainloop()"
   ]
  },
  {
   "cell_type": "markdown",
   "metadata": {
    "id": "2ruo4yrT7nMD"
   },
   "source": [
    "Problema Prático 9.8\n",
    "\n",
    "Reimplemente a aplicação GUI keylogger.py como uma nova classe de widget definida pelo usuário. Você precisará decidir se é necessário atribuir o widget Text contido nessa GUI a uma variável de instância ou não.\n",
    "\n",
    "<img src = \"https://jigsaw.minhabiblioteca.com.br/books/9788521630937/epub/OEBPS/Images/ch9fig13.png\">\n"
   ]
  },
  {
   "cell_type": "code",
   "execution_count": null,
   "metadata": {},
   "outputs": [],
   "source": [
    "from tkinter import Text, Frame, BOTH\n",
    "class KeyLogger(Frame):\n",
    "    'um editor básico que registra as teclas pressionadas'\n",
    "    def __init__(self, master=None):\n",
    "        Frame.__init__(self, master)\n",
    "        self.pack()\n",
    "        text = Text(width=20, height=5)\n",
    "        text.bind('<KeyPress>', self.record)\n",
    "        text.pack(expand=True, fill=BOTH)\n",
    "\n",
    "\n",
    "    def record(self, event):\n",
    "        '''trata dos eventos de toque de tecla exibindo\n",
    "        caracteres associados à tecla'''\n",
    "        print('char={}'.format(event.keysym))\n",
    "\n",
    "keylogger = KeyLogger()"
   ]
  },
  {
   "cell_type": "code",
   "execution_count": null,
   "metadata": {},
   "outputs": [],
   "source": [
    "keylogger.mainloop()\n"
   ]
  },
  {
   "cell_type": "markdown",
   "metadata": {
    "id": "hf2B2cyl7nJe"
   },
   "source": [
    "Problema Prático 9.9\n",
    "\n",
    "Reimplemente a aplicação GUI plotter como uma classe de widget definida pelo usuário, que encapsula o estado da plotter (ou seja, a posição da caneta). Pense cuidadosamente sobre quais widgets precisam ser atribuídas a variáveis de instância."
   ]
  },
  {
   "cell_type": "code",
   "execution_count": null,
   "metadata": {
    "id": "nmcL14R86bn7"
   },
   "outputs": [],
   "source": []
  }
 ],
 "metadata": {
  "colab": {
   "collapsed_sections": [],
   "name": "Semana_7.ipynb",
   "provenance": []
  },
  "kernelspec": {
   "display_name": "Python 3",
   "language": "python",
   "name": "python3"
  },
  "language_info": {
   "codemirror_mode": {
    "name": "ipython",
    "version": 3
   },
   "file_extension": ".py",
   "mimetype": "text/x-python",
   "name": "python",
   "nbconvert_exporter": "python",
   "pygments_lexer": "ipython3",
   "version": "3.6.9"
  }
 },
 "nbformat": 4,
 "nbformat_minor": 4
}
