{
  "nbformat": 4,
  "nbformat_minor": 0,
  "metadata": {
    "colab": {
      "name": "Semana_3.ipynb",
      "provenance": [],
      "private_outputs": true,
      "collapsed_sections": [],
      "authorship_tag": "ABX9TyP0cb5GbCX0yIjksPvltZQE",
      "include_colab_link": true
    },
    "kernelspec": {
      "name": "python3",
      "display_name": "Python 3"
    }
  },
  "cells": [
    {
      "cell_type": "markdown",
      "metadata": {
        "id": "view-in-github",
        "colab_type": "text"
      },
      "source": [
        "<a href=\"https://colab.research.google.com/github/rafaelmgr12/UNIVESP-AlgeProg2/blob/master/Semana_3.ipynb\" target=\"_parent\"><img src=\"https://colab.research.google.com/assets/colab-badge.svg\" alt=\"Open In Colab\"/></a>"
      ]
    },
    {
      "cell_type": "markdown",
      "metadata": {
        "id": "RKxW2nYrigt4"
      },
      "source": [
        "# Semana 3\n",
        "\n"
      ]
    },
    {
      "cell_type": "markdown",
      "metadata": {
        "id": "5fahAW35ijpj"
      },
      "source": [
        "## Recursão\n",
        "\n"
      ]
    },
    {
      "cell_type": "markdown",
      "metadata": {
        "id": "LX6qLRkOijk3"
      },
      "source": [
        "\n",
        "Uma função é dita recursiva quando é definida\n",
        "em seus próprios termos, direta ou\n",
        "indiretamente.\n",
        "\n",
        "Por exemplo, podemos modificar a função\n",
        "abaixo, que imprime os elementos de uma lista,\n",
        "para que seja recursiva:\n",
        "\n"
      ]
    },
    {
      "cell_type": "code",
      "metadata": {
        "id": "ORhm-xqdjx5A"
      },
      "source": [
        "import numpy as np\n",
        "\n",
        "def lista(l):\n",
        "  for i in range(len(l)):\n",
        "    print(l[i])\n",
        "\n",
        "def listaRec(l,i=0):\n",
        "  if i <len(l):\n",
        "    print(l[i])\n",
        "    listaRec(l,i+1)\n",
        "\n",
        "l = np.random.randn(15)"
      ],
      "execution_count": null,
      "outputs": []
    },
    {
      "cell_type": "markdown",
      "metadata": {
        "id": "JxLHLdoEijh0"
      },
      "source": [
        "### Efeitos da recursão\n",
        "\n",
        "A cada chamada:\n",
        "- Empilham-se na memória os dados locais\n",
        "(variáveis e parâmetros) e o endereço de\n",
        "retorno.\n",
        "- A funcão corrente só termina quando a função\n",
        "chamada terminar.\n",
        "\n",
        "- Executa-se a nova chamada (que também\n",
        "pode ser recursiva)\n",
        "- Ao retornar, desempilham-se os dados da\n",
        "memória, restaurando o estado antes da\n",
        "chamada recursiva"
      ]
    },
    {
      "cell_type": "markdown",
      "metadata": {
        "id": "fcyOVbbKijfN"
      },
      "source": [
        "### Quando usar?\n",
        "\n",
        "Dependendo do problema, a recursão pode ser\n",
        "bem ou mal empregada.\n",
        "\n",
        "Geralmente, se existe uma versão simples e\n",
        "não recursiva da função, ela deve ser usada.\n",
        "\n",
        "Usamos recursão quando o problema pode ser\n",
        "definido recursivamente de forma natural."
      ]
    },
    {
      "cell_type": "markdown",
      "metadata": {
        "id": "RllY_F8eijcj"
      },
      "source": [
        "### Como usar?\n",
        "\n",
        "Necessário definir 3 pontos:\n",
        "\n",
        "1. Definir o problema de forma recursiva, ou\n",
        "seja, em termos dele mesmo\n",
        "2. Definir a condição de término (ou condição\n",
        "básica)\n",
        "3. A cada chamada recursiva, deve-se tentar\n",
        "garantir que se está mais próximo de\n",
        "satisfazer a condição de término\n"
      ]
    },
    {
      "cell_type": "markdown",
      "metadata": {
        "id": "4_wY_TRLijaH"
      },
      "source": [
        "**Exemplo: problema do fatorial**\n",
        "1. Definir o problema de forma recursiva, ou\n",
        "seja, em termos dele mesmo\n",
        "* n! = n * (n – 1)!\n",
        "2. Definir a condição de término (ou condição\n",
        "básica)\n",
        "* n = 0\n",
        "3. A cada chamada recursiva, deve-se tentar\n",
        "garantir que se está mais próximo de\n",
        "satisfazer a condição de término\n",
        "* A cada chamada, n é decrementado"
      ]
    },
    {
      "cell_type": "code",
      "metadata": {
        "id": "YmBJNQxgob9i"
      },
      "source": [
        "# fatorial recursivo\n",
        "import sys\n",
        "sys.setrecursionlimit(1000)\n",
        "def fat(num):\n",
        "  if num == 0:\n",
        "    return 1\n",
        "  if num == 1:\n",
        "    return 1\n",
        "  if num > 1:\n",
        "    return fat(num-1)*num\n",
        "\n",
        "fat(4)"
      ],
      "execution_count": null,
      "outputs": []
    },
    {
      "cell_type": "markdown",
      "metadata": {
        "id": "EysvOaGMijX1"
      },
      "source": [
        "###Exercício\n",
        "\n",
        "Implementar uma função recursiva para\n",
        "calcular o n-ésimo termo da sequência de\n",
        "Fibonacci.\n",
        "Considere os três pontos definidos para o\n",
        "problema:\n",
        "1. f(0) = 0, f(1) = 1, f(n) = f(n-1) + f(n-2) p/ n>=2\n",
        "2. n=0 ou n=1\n",
        "3. n deve ser decrementado a cada chamada\n",
        "\n",
        "Para quem ainda não sabe o que é a sequêcia de Fibonacci segue a [referência](https://pt.wikipedia.org/wiki/Sequ%C3%AAncia_de_Fibonacci)\n",
        "\n"
      ]
    },
    {
      "cell_type": "code",
      "metadata": {
        "id": "0SrPnMoAqp77"
      },
      "source": [
        "def recur_fibo(n):  \n",
        "   if n <= 1:  \n",
        "       return n  \n",
        "   else:  \n",
        "       return (recur_fibo(n-1) + recur_fibo(n-2))  \n",
        "\n",
        "print(\"Fibonacci sequence:\")  \n",
        "for i in range(10):  \n",
        "  print(recur_fibo(i))  "
      ],
      "execution_count": null,
      "outputs": []
    },
    {
      "cell_type": "markdown",
      "metadata": {
        "id": "g3D_0vJaijVu"
      },
      "source": [
        "## Recursão vs Iteração"
      ]
    },
    {
      "cell_type": "markdown",
      "metadata": {
        "id": "uFfZBli_ijTT"
      },
      "source": [
        "Problema: n-ésimo termo de Fibonacci\n",
        "Quem é melhor?"
      ]
    },
    {
      "cell_type": "code",
      "metadata": {
        "id": "QgMK--e6r68e"
      },
      "source": [
        "def fib_it(n):\n",
        "  res = n\n",
        "  a, b = 0, 1\n",
        "  for k in range(2, n+1):\n",
        "    res = a + b\n",
        "    a, b = b, res\n",
        "  return res\n",
        "print(\"Fibonacci sequence:\")  \n",
        "for i in range(10):  \n",
        "  print(fib_it(i))  "
      ],
      "execution_count": null,
      "outputs": []
    },
    {
      "cell_type": "markdown",
      "metadata": {
        "id": "rz-djsjUijRZ"
      },
      "source": [
        "Vamos estimar tempo usando a biblioteca Time"
      ]
    },
    {
      "cell_type": "code",
      "metadata": {
        "id": "9DcJH9zPsNnZ"
      },
      "source": [
        "import time\n",
        "start1 = time.perf_counter()\n",
        "fib_it(40)\n",
        "time_taken1 = time.perf_counter() - start1\n",
        "\n",
        "start = time.perf_counter()\n",
        "recur_fibo(40)\n",
        "time_taken = time.perf_counter() - start\n",
        "\n",
        "print('time taken ite:', time_taken1)\n",
        "print('time taken rec:', time_taken)"
      ],
      "execution_count": null,
      "outputs": []
    },
    {
      "cell_type": "markdown",
      "metadata": {
        "id": "aZ3tbnhqijPi"
      },
      "source": [
        "### Memoização\n",
        "\n",
        "Técnica de otimização que armazena os\n",
        "resultados de chamadas de funções custosas,\n",
        "e que retorna o valor armazenado quando a\n",
        "função é chamada novamente."
      ]
    },
    {
      "cell_type": "markdown",
      "metadata": {
        "id": "aYKsHqxJijNX"
      },
      "source": [
        "**Exemplo: Fatorial**"
      ]
    },
    {
      "cell_type": "code",
      "metadata": {
        "id": "w1vlNyu9s8v1"
      },
      "source": [
        "m = dict()\n",
        "\n",
        "def fatM(n):\n",
        "  if n == 0:\n",
        "    return 1\n",
        "  elif m.get(n)!= None:\n",
        "    return m[n]\n",
        "  else:\n",
        "    m[n] = n * fat(n-1)\n",
        "    return m[n]"
      ],
      "execution_count": null,
      "outputs": []
    },
    {
      "cell_type": "code",
      "metadata": {
        "id": "tjNbQ4_6urNr"
      },
      "source": [
        "start1 = time.perf_counter()\n",
        "fatM(20)\n",
        "time_taken1 = time.perf_counter() - start1\n",
        "\n",
        "start = time.perf_counter()\n",
        "fat(20)\n",
        "time_taken = time.perf_counter() - start\n",
        "\n",
        "print('time taken rec M:', time_taken1)\n",
        "print('time taken rec:', time_taken)"
      ],
      "execution_count": null,
      "outputs": []
    },
    {
      "cell_type": "markdown",
      "metadata": {
        "id": "gOM6xqpcijLE"
      },
      "source": [
        "**Exemplo: Fibonacci**\n"
      ]
    },
    {
      "cell_type": "code",
      "metadata": {
        "id": "Ceipwq5JvlV1"
      },
      "source": [
        "m = dict()\n",
        "def fib_mem(n):\n",
        "  if n < 2:\n",
        "    return n\n",
        "  elif m.get(n) != None:\n",
        "    return m[n]\n",
        "  else:\n",
        "    m[n] = fib_mem(n-1) + fib_mem(n-2)\n",
        "    return m[n]"
      ],
      "execution_count": null,
      "outputs": []
    },
    {
      "cell_type": "code",
      "metadata": {
        "id": "5yDn8QeevrJp"
      },
      "source": [
        "start1 = time.perf_counter()\n",
        "fib_mem(40)\n",
        "time_taken1 = time.perf_counter() - start1\n",
        "\n",
        "start = time.perf_counter()\n",
        "recur_fibo(40)\n",
        "time_taken = time.perf_counter() - start\n",
        "\n",
        "print('time taken rec M:', time_taken1)\n",
        "print('time taken rec:', time_taken)"
      ],
      "execution_count": null,
      "outputs": []
    },
    {
      "cell_type": "markdown",
      "metadata": {
        "id": "xIyq6l26ijIp"
      },
      "source": [
        "### Exercícios\n",
        "\n",
        "Dada uma lista l de n números, implemente\n",
        "uma função recursiva que retorna o maior\n",
        "elemento do conjunto.\n",
        "\n",
        "Dada uma lista l de n números, implemente\n",
        "uma função recursiva que retorna a soma de\n",
        "todos os elementos do conjunto."
      ]
    },
    {
      "cell_type": "code",
      "metadata": {
        "id": "7j_2EVaiw1JU"
      },
      "source": [
        ""
      ],
      "execution_count": null,
      "outputs": []
    },
    {
      "cell_type": "markdown",
      "metadata": {
        "id": "cAmb_yOmijGo"
      },
      "source": [
        "## Exercícios de Apoio"
      ]
    },
    {
      "cell_type": "markdown",
      "metadata": {
        "id": "MCHlWzhVijEl"
      },
      "source": [
        "Problema Prático 10.1\n",
        "\n",
        "Implemente o método recursivo reverse(), que aceita um inteiro não negativo como entrada e exibe os dígitos de n verticalmente, começando com o dígito de ordem baixa.\n",
        "```\n",
        "reverse(3124)\n",
        "```\n",
        "4\n",
        "\n",
        "2\n",
        "\n",
        "1\n",
        "\n",
        "3"
      ]
    },
    {
      "cell_type": "code",
      "metadata": {
        "id": "zE5ud7RtyYhj"
      },
      "source": [
        ""
      ],
      "execution_count": null,
      "outputs": []
    },
    {
      "cell_type": "markdown",
      "metadata": {
        "id": "hDSQB5oxijC0"
      },
      "source": [
        "Problema Prático 10.2\n",
        "\n",
        "Use o pensamento recursivo para implementar a função recursiva saúde() que, sobre a entrada inteira n, exibe n strings 'Hip ' seguidos por Hurrah.\n",
        "\n"
      ]
    },
    {
      "cell_type": "code",
      "metadata": {
        "id": "bhLNUqrNya1C"
      },
      "source": [
        ""
      ],
      "execution_count": null,
      "outputs": []
    },
    {
      "cell_type": "markdown",
      "metadata": {
        "id": "NYYmJXkEijAV"
      },
      "source": [
        "Problema Prático 10.3\n",
        "\n",
        "No Capítulo 5, implementamos a função fatorial() iterativamente. A função fatorial n! tem uma definição recursiva natural:\n",
        "$$\n",
        "n!   =   \\begin{cases} 1    \\quad\\text{se}\\quad n = 0\\\\\n",
        "                 n · (n− 1)! \\quad\\text{se}\\quad n > 0\\end{cases}\n",
        "$$\n",
        "Reimplemente a função fatorial() usando a recursão. Além disso, estime quantas chamadas à fatorial() são feitas para algum valor de entrada n > 0."
      ]
    },
    {
      "cell_type": "code",
      "metadata": {
        "id": "pNH-FFQuidai"
      },
      "source": [
        "# Sem"
      ],
      "execution_count": null,
      "outputs": []
    },
    {
      "cell_type": "markdown",
      "metadata": {
        "id": "RwpU5u7NzE70"
      },
      "source": [
        ""
      ]
    },
    {
      "cell_type": "code",
      "metadata": {
        "id": "CRZAEFAHzEo8"
      },
      "source": [
        ""
      ],
      "execution_count": null,
      "outputs": []
    },
    {
      "cell_type": "markdown",
      "metadata": {
        "id": "PCcCJyztzFeE"
      },
      "source": [
        ""
      ]
    },
    {
      "cell_type": "code",
      "metadata": {
        "id": "ADrF6ELzzDoh"
      },
      "source": [
        ""
      ],
      "execution_count": null,
      "outputs": []
    }
  ]
}