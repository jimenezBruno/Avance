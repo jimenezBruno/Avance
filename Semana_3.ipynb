{
  "nbformat": 4,
  "nbformat_minor": 0,
  "metadata": {
    "colab": {
      "name": "Semana_3.ipynb",
      "provenance": [],
      "private_outputs": true,
      "collapsed_sections": [],
      "authorship_tag": "ABX9TyOOKRrDcHNZS4519FiwOB1I",
      "include_colab_link": true
    },
    "kernelspec": {
      "name": "python3",
      "display_name": "Python 3"
    }
  },
  "cells": [
    {
      "cell_type": "markdown",
      "metadata": {
        "id": "view-in-github",
        "colab_type": "text"
      },
      "source": [
        "<a href=\"https://colab.research.google.com/github/rafaelmgr12/UNIVESP-AlgeProg2/blob/master/Semana_3.ipynb\" target=\"_parent\"><img src=\"https://colab.research.google.com/assets/colab-badge.svg\" alt=\"Open In Colab\"/></a>"
      ]
    },
    {
      "cell_type": "markdown",
      "metadata": {
        "id": "RKxW2nYrigt4"
      },
      "source": [
        "# Semana 3\n",
        "\n"
      ]
    },
    {
      "cell_type": "markdown",
      "metadata": {
        "id": "5fahAW35ijpj"
      },
      "source": [
        "## Recursão\n",
        "\n"
      ]
    },
    {
      "cell_type": "markdown",
      "metadata": {
        "id": "LX6qLRkOijk3"
      },
      "source": [
        "\n",
        "Uma função é dita recursiva quando é definida\n",
        "em seus próprios termos, direta ou\n",
        "indiretamente.\n",
        "\n",
        "Por exemplo, podemos modificar a função\n",
        "abaixo, que imprime os elementos de uma lista,\n",
        "para que seja recursiva:\n",
        "\n"
      ]
    },
    {
      "cell_type": "code",
      "metadata": {
        "id": "ORhm-xqdjx5A"
      },
      "source": [
        "import numpy as np\n",
        "\n",
        "def lista(l):\n",
        "  for i in range(len(l)):\n",
        "    print(l[i])\n",
        "\n",
        "def listaRec(l,i=0):\n",
        "  if i <len(l):\n",
        "    print(l[i])\n",
        "    listaRec(l,i+1)\n",
        "\n",
        "l = np.random.randn(15)"
      ],
      "execution_count": null,
      "outputs": []
    },
    {
      "cell_type": "markdown",
      "metadata": {
        "id": "JxLHLdoEijh0"
      },
      "source": [
        "### Efeitos da recursão\n",
        "\n",
        "A cada chamada:\n",
        "- Empilham-se na memória os dados locais\n",
        "(variáveis e parâmetros) e o endereço de\n",
        "retorno.\n",
        "- A funcão corrente só termina quando a função\n",
        "chamada terminar.\n",
        "\n",
        "- Executa-se a nova chamada (que também\n",
        "pode ser recursiva)\n",
        "- Ao retornar, desempilham-se os dados da\n",
        "memória, restaurando o estado antes da\n",
        "chamada recursiva"
      ]
    },
    {
      "cell_type": "markdown",
      "metadata": {
        "id": "fcyOVbbKijfN"
      },
      "source": [
        "### Quando usar?\n",
        "\n",
        "Dependendo do problema, a recursão pode ser\n",
        "bem ou mal empregada.\n",
        "\n",
        "Geralmente, se existe uma versão simples e\n",
        "não recursiva da função, ela deve ser usada.\n",
        "\n",
        "Usamos recursão quando o problema pode ser\n",
        "definido recursivamente de forma natural."
      ]
    },
    {
      "cell_type": "markdown",
      "metadata": {
        "id": "RllY_F8eijcj"
      },
      "source": [
        "### Como usar?\n",
        "\n",
        "Necessário definir 3 pontos:\n",
        "\n",
        "1. Definir o problema de forma recursiva, ou\n",
        "seja, em termos dele mesmo\n",
        "2. Definir a condição de término (ou condição\n",
        "básica)\n",
        "3. A cada chamada recursiva, deve-se tentar\n",
        "garantir que se está mais próximo de\n",
        "satisfazer a condição de término\n"
      ]
    },
    {
      "cell_type": "markdown",
      "metadata": {
        "id": "4_wY_TRLijaH"
      },
      "source": [
        "**Exemplo: problema do fatorial**\n",
        "1. Definir o problema de forma recursiva, ou\n",
        "seja, em termos dele mesmo\n",
        "* n! = n * (n – 1)!\n",
        "2. Definir a condição de término (ou condição\n",
        "básica)\n",
        "* n = 0\n",
        "3. A cada chamada recursiva, deve-se tentar\n",
        "garantir que se está mais próximo de\n",
        "satisfazer a condição de término\n",
        "* A cada chamada, n é decrementado"
      ]
    },
    {
      "cell_type": "code",
      "metadata": {
        "id": "YmBJNQxgob9i"
      },
      "source": [
        "# fatorial recursivo\n",
        "import sys\n",
        "sys.setrecursionlimit(1000)\n",
        "def fat(num):\n",
        "  if num == 0:\n",
        "    return 1\n",
        "  if num == 1:\n",
        "    return 1\n",
        "  if num > 1:\n",
        "    return fat(num-1)*num\n",
        "\n",
        "fat(4)"
      ],
      "execution_count": null,
      "outputs": []
    },
    {
      "cell_type": "markdown",
      "metadata": {
        "id": "EysvOaGMijX1"
      },
      "source": [
        "###Exercício\n",
        "\n",
        "Implementar uma função recursiva para\n",
        "calcular o n-ésimo termo da sequência de\n",
        "Fibonacci.\n",
        "Considere os três pontos definidos para o\n",
        "problema:\n",
        "1. f(0) = 0, f(1) = 1, f(n) = f(n-1) + f(n-2) p/ n>=2\n",
        "2. n=0 ou n=1\n",
        "3. n deve ser decrementado a cada chamada\n",
        "\n",
        "Para quem ainda não sabe o que é a sequêcia de Fibonacci segue a [referência](https://pt.wikipedia.org/wiki/Sequ%C3%AAncia_de_Fibonacci)\n",
        "\n"
      ]
    },
    {
      "cell_type": "code",
      "metadata": {
        "id": "0SrPnMoAqp77"
      },
      "source": [
        "def recur_fibo(n):  \n",
        "   if n <= 1:  \n",
        "       return n  \n",
        "   else:  \n",
        "       return (recur_fibo(n-1) + recur_fibo(n-2))  \n",
        "\n",
        "print(\"Fibonacci sequence:\")  \n",
        "for i in range(10):  \n",
        "  print(recur_fibo(i))  "
      ],
      "execution_count": null,
      "outputs": []
    },
    {
      "cell_type": "markdown",
      "metadata": {
        "id": "g3D_0vJaijVu"
      },
      "source": [
        "## Recursão vs Iteração"
      ]
    },
    {
      "cell_type": "markdown",
      "metadata": {
        "id": "uFfZBli_ijTT"
      },
      "source": [
        "Problema: n-ésimo termo de Fibonacci\n",
        "Quem é melhor?"
      ]
    },
    {
      "cell_type": "code",
      "metadata": {
        "id": "QgMK--e6r68e"
      },
      "source": [
        "def fib_it(n):\n",
        "  res = n\n",
        "  a, b = 0, 1\n",
        "  for k in range(2, n+1):\n",
        "    res = a + b\n",
        "    a, b = b, res\n",
        "  return res\n",
        "print(\"Fibonacci sequence:\")  \n",
        "for i in range(10):  \n",
        "  print(fib_it(i))  "
      ],
      "execution_count": null,
      "outputs": []
    },
    {
      "cell_type": "markdown",
      "metadata": {
        "id": "rz-djsjUijRZ"
      },
      "source": [
        "Vamos estimar tempo usando a biblioteca Time"
      ]
    },
    {
      "cell_type": "code",
      "metadata": {
        "id": "9DcJH9zPsNnZ"
      },
      "source": [
        "import time\n",
        "start1 = time.perf_counter()\n",
        "fib_it(40)\n",
        "time_taken1 = time.perf_counter() - start1\n",
        "\n",
        "start = time.perf_counter()\n",
        "recur_fibo(40)\n",
        "time_taken = time.perf_counter() - start\n",
        "\n",
        "print('time taken ite:', time_taken1)\n",
        "print('time taken rec:', time_taken)"
      ],
      "execution_count": null,
      "outputs": []
    },
    {
      "cell_type": "markdown",
      "metadata": {
        "id": "aZ3tbnhqijPi"
      },
      "source": [
        "### Memoização\n",
        "\n",
        "Técnica de otimização que armazena os\n",
        "resultados de chamadas de funções custosas,\n",
        "e que retorna o valor armazenado quando a\n",
        "função é chamada novamente."
      ]
    },
    {
      "cell_type": "markdown",
      "metadata": {
        "id": "aYKsHqxJijNX"
      },
      "source": [
        "**Exemplo: Fatorial**"
      ]
    },
    {
      "cell_type": "code",
      "metadata": {
        "id": "w1vlNyu9s8v1"
      },
      "source": [
        "m = dict()\n",
        "\n",
        "def fatM(n):\n",
        "  if n == 0:\n",
        "    return 1\n",
        "  elif m.get(n)!= None:\n",
        "    return m[n]\n",
        "  else:\n",
        "    m[n] = n * fat(n-1)\n",
        "    return m[n]"
      ],
      "execution_count": null,
      "outputs": []
    },
    {
      "cell_type": "code",
      "metadata": {
        "id": "tjNbQ4_6urNr"
      },
      "source": [
        "start1 = time.perf_counter()\n",
        "fatM(20)\n",
        "time_taken1 = time.perf_counter() - start1\n",
        "\n",
        "start = time.perf_counter()\n",
        "fat(20)\n",
        "time_taken = time.perf_counter() - start\n",
        "\n",
        "print('time taken rec M:', time_taken1)\n",
        "print('time taken rec:', time_taken)"
      ],
      "execution_count": null,
      "outputs": []
    },
    {
      "cell_type": "markdown",
      "metadata": {
        "id": "gOM6xqpcijLE"
      },
      "source": [
        "**Exemplo: Fibonacci**\n"
      ]
    },
    {
      "cell_type": "code",
      "metadata": {
        "id": "Ceipwq5JvlV1"
      },
      "source": [
        "m = dict()\n",
        "def fib_mem(n):\n",
        "  if n < 2:\n",
        "    return n\n",
        "  elif m.get(n) != None:\n",
        "    return m[n]\n",
        "  else:\n",
        "    m[n] = fib_mem(n-1) + fib_mem(n-2)\n",
        "    return m[n]"
      ],
      "execution_count": null,
      "outputs": []
    },
    {
      "cell_type": "code",
      "metadata": {
        "id": "5yDn8QeevrJp"
      },
      "source": [
        "start1 = time.perf_counter()\n",
        "fib_mem(40)\n",
        "time_taken1 = time.perf_counter() - start1\n",
        "\n",
        "start = time.perf_counter()\n",
        "recur_fibo(40)\n",
        "time_taken = time.perf_counter() - start\n",
        "\n",
        "print('time taken rec M:', time_taken1)\n",
        "print('time taken rec:', time_taken)"
      ],
      "execution_count": null,
      "outputs": []
    },
    {
      "cell_type": "markdown",
      "metadata": {
        "id": "xIyq6l26ijIp"
      },
      "source": [
        "### Exercícios\n",
        "\n",
        "Dada uma lista l de n números, implemente\n",
        "uma função recursiva que retorna o maior\n",
        "elemento do conjunto.\n",
        "\n",
        "Dada uma lista l de n números, implemente\n",
        "uma função recursiva que retorna a soma de\n",
        "todos os elementos do conjunto."
      ]
    },
    {
      "cell_type": "code",
      "metadata": {
        "id": "7j_2EVaiw1JU"
      },
      "source": [
        "def maior_aux(L, n):\n",
        "  if n==1: #Caso trivial\n",
        "    return L[0]\n",
        "  else:\n",
        "    m = maior_aux(L, n-1)\n",
        "    if m > L[n-1]:\n",
        "      return m\n",
        "    else:\n",
        "      return L[n-1]\n",
        " \n",
        " \n",
        "def maior(L):\n",
        "  n = len(L)\n",
        "  return maior_aux(L, n)\n",
        "\n",
        "def somaR(lista):\n",
        "  if len(lista) == 1:\n",
        "    return lista[0]\n",
        "  else:\n",
        "   return lista[0] + somaR(lista[1:])\n",
        "\n",
        "l = [1,2,3]\n",
        "maior(l)\n",
        "\n",
        "somaR(l)\n",
        "\n"
      ],
      "execution_count": null,
      "outputs": []
    },
    {
      "cell_type": "code",
      "metadata": {
        "id": "urW17NkIT-BS"
      },
      "source": [
        "l[1:]"
      ],
      "execution_count": null,
      "outputs": []
    },
    {
      "cell_type": "markdown",
      "metadata": {
        "id": "cAmb_yOmijGo"
      },
      "source": [
        "## Exercícios de Apoio"
      ]
    },
    {
      "cell_type": "markdown",
      "metadata": {
        "id": "MCHlWzhVijEl"
      },
      "source": [
        "Problema Prático 10.1\n",
        "\n",
        "Implemente o método recursivo reverse(), que aceita um inteiro não negativo como entrada e exibe os dígitos de n verticalmente, começando com o dígito de ordem baixa.\n",
        "```\n",
        "reverse(3124)\n",
        "```\n",
        "4\n",
        "\n",
        "2\n",
        "\n",
        "1\n",
        "\n",
        "3"
      ]
    },
    {
      "cell_type": "code",
      "metadata": {
        "id": "zE5ud7RtyYhj"
      },
      "source": [
        "def reverse(n):\n",
        "    'exibe dígitos de n verticalmente, começando com dígito de baixa ordem'\n",
        "    if n < 10:          # caso básico: número de um dígito\n",
        "      print(n)\n",
        "    else:               # n tem pelo menos 2 dígitos\n",
        "      print(n%10)     # exibe último dígito de n\n",
        "      reverse(n//10)  # exibe recursivamente, em reverso,\n",
        "                      # tudo menos o último dígito\n",
        "reverse(3124)                      "
      ],
      "execution_count": null,
      "outputs": []
    },
    {
      "cell_type": "markdown",
      "metadata": {
        "id": "hDSQB5oxijC0"
      },
      "source": [
        "Problema Prático 10.2\n",
        "\n",
        "Use o pensamento recursivo para implementar a função recursiva saúde() que, sobre a entrada inteira n, exibe n strings 'Hip ' seguidos por Hurrah.\n",
        "\n"
      ]
    },
    {
      "cell_type": "code",
      "metadata": {
        "id": "bhLNUqrNya1C"
      },
      "source": [
        "def cheers(n):\n",
        "    if n == 0:\n",
        "      print('Hurrah!!!')\n",
        "    else: # n > 0\n",
        "      print('Hip', end=' ')\n",
        "      cheers(n-1)\n",
        "cheers(3)"
      ],
      "execution_count": null,
      "outputs": []
    },
    {
      "cell_type": "markdown",
      "metadata": {
        "id": "NYYmJXkEijAV"
      },
      "source": [
        "Problema Prático 10.3\n",
        "\n",
        "No Capítulo 5, implementamos a função fatorial() iterativamente. A função fatorial n! tem uma definição recursiva natural:\n",
        "$$\n",
        "n!   =   \\begin{cases} 1    \\quad\\text{se}\\quad n = 0\\\\\n",
        "                 n · (n− 1)! \\quad\\text{se}\\quad n > 0\\end{cases}\n",
        "$$\n",
        "Reimplemente a função fatorial() usando a recursão. Além disso, estime quantas chamadas à fatorial() são feitas para algum valor de entrada n > 0."
      ]
    },
    {
      "cell_type": "code",
      "metadata": {
        "id": "pNH-FFQuidai"
      },
      "source": [
        "def fat(n):\n",
        "  if n in [0, 1]: # caso básico\n",
        "    return 1\n",
        "  return fat(n-1)*n\n",
        "fat(4)"
      ],
      "execution_count": null,
      "outputs": []
    },
    {
      "cell_type": "markdown",
      "metadata": {
        "id": "RwpU5u7NzE70"
      },
      "source": [
        "Implemente o método recursivo pattern2(), que aceita um inteiro não negativo como entrada e exibe o padrão mostrado a seguir. Os padrões para as entradas 0 e 1 são nada e um asterisco, respectivamente:\n",
        "```\n",
        ">>> pattern2(0)\n",
        ">>> pattern2(1)\n",
        "```\n",
        "\n",
        "Os padrões para as entradas 2 e 3 aparecem em seguida.\n",
        "```\n",
        ">>> pattern2(2)\n",
        "```\n",
        "\n",
        "*\n",
        "\n",
        "**\n",
        "\n",
        "*\n",
        "```\n",
        ">>> pattern2(3)\n",
        "```\n",
        "*\n",
        "\n",
        "**\n",
        "\n",
        "*\n",
        "\n",
        "***\n",
        "\n",
        "*\n",
        "\n",
        "**\n",
        "\n",
        "*"
      ]
    },
    {
      "cell_type": "code",
      "metadata": {
        "id": "3F-jNSwlDjlC"
      },
      "source": [
        "#  O codigo pattern\n",
        "def pattern(n):\n",
        "  'exibe o enésimo padrão'\n",
        "  if n == 0:           # caso básico\n",
        "    print(0, end=' ')\n",
        "  else:                # etapa recursiva: n > 0\n",
        "    pattern(n-1)         # exibe padrão n-1\n",
        "    print(n, end=' ')    # exibe n\n",
        "    pattern(n-1)         # exibe padrão n-1"
      ],
      "execution_count": null,
      "outputs": []
    },
    {
      "cell_type": "code",
      "metadata": {
        "id": "CRZAEFAHzEo8"
      },
      "source": [
        "# pattern2()\n",
        "def pattern2(n):\n",
        "\n",
        "    'exibe o enésimo padrão'\n",
        "\n",
        "    if n > 0:\n",
        "\n",
        "        pattern2(n-1)  # exibe pattern2(n-1\n",
        "\n",
        "        print(n * '*')   # exibe n estrelas\n",
        "\n",
        "        pattern2(n-1)  # exibe pattern2(n-1\n",
        "pattern2(3)"
      ],
      "execution_count": null,
      "outputs": []
    },
    {
      "cell_type": "markdown",
      "metadata": {
        "id": "PCcCJyztzFeE"
      },
      "source": [
        "Problema Prático 10.5\n",
        "\n",
        "Implemente a função snowflake(), que aceita um inteiro não negativo n como entrada e exibe um padrão de floco de neve, combinando três curvas de Koch Kn desta maneira: quando a tartaruga terminar de desenhar a primeira e segunda curva de Koch, a tartaruga deverá girar 120 graus para a direita e começar a desenhar uma nova curva de Koch. Aqui, vemos a saída de snowflake(4)."
      ]
    },
    {
      "cell_type": "code",
      "metadata": {
        "id": "fTBMkmc6E9x5"
      },
      "source": [
        "# setup para usar o turtle\n",
        "!pip install PythonTurtle"
      ],
      "execution_count": null,
      "outputs": []
    },
    {
      "cell_type": "code",
      "metadata": {
        "id": "_9F2dtdAEtUP"
      },
      "source": [
        "from turtle import Screen,Turtle\n",
        "\n",
        "def koch(n):\n",
        "  'retorna direções turtle para desenhar a curva Koch(n)'\n",
        "  if n == 0:       # caso básico\n",
        "    return 'F'\n",
        "  tmp = koch(n-1)  # etapa recursiva: obtém direções para Koch(n – 1)\n",
        "                    # usa isso para construir direções para Koch(n)\n",
        "  return tmp + 'L' + tmp + 'R' + tmp + 'L' + tmp\n",
        "def drawKoch(n):\n",
        "  'desenha enésima curva de Koch usando instruções da função koch()'\n",
        "  s = Screen()            # cria tela\n",
        "  t = Turtle()            # cria turtle\n",
        "  directions = koch(n)    # obtém direções para desenhar Koch(n)\n",
        "  for move in directions: # segue os movimentos especificados\n",
        "    if move == 'F':\n",
        "      t.forward(300/3**n) # move para frente, tamanho normalizado\n",
        "    if move == 'L':\n",
        "      t.lt(60)            # gira 60 graus para a esquerda\n",
        "    if move == 'R':\n",
        "      t.rt(120)           # gira 120 graus para a direita\n",
        "  s.bye()"
      ],
      "execution_count": null,
      "outputs": []
    },
    {
      "cell_type": "code",
      "metadata": {
        "id": "ADrF6ELzzDoh"
      },
      "source": [
        "def drawSnowflake(n):\n",
        "  'desenha enésima curva de floco de neve com função koch() 3 vezes'\n",
        "  s = Screen()\n",
        "  t = Turtle()\n",
        "  directions = koch(n)\n",
        "  for i in range(3):\n",
        "    for move in directions: # desenha koch(n)\n",
        "      if move == 'F':\n",
        "        t.fd(300/3**n)\n",
        "      if move == 'L':\n",
        "        t.lt(60)\n",
        "      if move == 'R':\n",
        "        t.rt(120)\n",
        "    t.rt(120)               # gira 120 graus para a direita\n",
        "\n",
        "  s.bye()"
      ],
      "execution_count": null,
      "outputs": []
    },
    {
      "cell_type": "code",
      "metadata": {
        "id": "USXVsz3DFsfS"
      },
      "source": [
        "drawSnowflake(3)"
      ],
      "execution_count": null,
      "outputs": []
    },
    {
      "cell_type": "markdown",
      "metadata": {
        "id": "ZnAtruZDH4h9"
      },
      "source": [
        "Problema Prático 10.6\n",
        "\n",
        "Usando a aplicação de análise do tempo de execução, desenvolvida nesta seção, analise o tempo de execução das funções power() e rpower(), bem como o operador embutido **. Você fará isso executando timingAnalysis() sobre as funções power2(), rpower2() e pow2(), definidas a seguir, e usando tamanhos de entrada de 20 mil a 80 mil, com incrementos de 20 mil.\n",
        "```\n",
        "def power2(n):\n",
        "\n",
        "    return power(2,n)\n",
        "\n",
        "def rpower2(n):\n",
        "\n",
        "    return rpower(2,n)\n",
        "\n",
        "def pow2(n):\n",
        "\n",
        "    return 2**n\n",
        "```\n",
        "Quando terminar, discuta qual técnica o operador embutido ** provavelmente utiliza."
      ]
    },
    {
      "cell_type": "code",
      "metadata": {
        "id": "gSDlQPVQH4ER"
      },
      "source": [
        "# função powr definada no livro\n",
        "def power(a, n):\n",
        "  'retorna a à potência n '\n",
        "  res = 1\n",
        "  for i in range(n):\n",
        "    res *= a\n",
        "  return res\n",
        "\n",
        "\n",
        "def rpower(a,n):\n",
        "  'retorna a à potência n '\n",
        "  counter = 0   # conta número de multiplicações\n",
        "  if n==0:\n",
        "    return 1\n",
        "   # if n > 0:\n",
        "  tmp = rpower(a, n//2)\n",
        "  if n % 2 == 0:\n",
        "    counter += 1\n",
        "    return tmp*tmp      # 1 multiplicação\n",
        "  else: # n % 2 == 1\n",
        "    counter += 2\n",
        "    return a*tmp*tmp    # 2 multiplicações\n",
        "\n",
        "def buildInput(n):\n",
        "  return n\n",
        "\n",
        "\n",
        "def timing(func,n):\n",
        "  'roda func sobre entrada retorna por buildInput'\n",
        "  funcInput = buildInput(n) #obtém entrada para func \n",
        "\n",
        "  start = time.time() # Hora inicial\n",
        "  func(funcInput)     # roda func sobre funcInput\n",
        "  end = time.time()   # hora fina\n",
        "\n",
        "  return end-start\n",
        "\n",
        "\n",
        "def timingAnalysis(func,start,stop,inc,runs):\n",
        "  '''exitbe tempos de execução médios da função func sobre entradas de tamanho\n",
        "      star,start+inc ....até o stop '''\n",
        "  for n in range(start,stop,inc): # para cada tamanho de entrada n\n",
        "    acc = 0.0 #inicializa o acumalador\n",
        "\n",
        "    for i in range(runs):\n",
        "      acc += timing(func,n) #implementa func sobre a entrad de tamanho n\n",
        "                            #acumula tempos de execucão\n",
        "      #exibe tempos de execuçao médios para tamnap de entrada n\n",
        "      formatStr = 'Tempo de execução de {}({}) é {:.7f} segundos.'\n",
        "      print(formatStr.format(func.__name__, n, acc/runs))\n",
        "\n",
        "\n",
        "\n",
        "def power2(n):\n",
        " \n",
        "    return power(2,n)\n",
        " \n",
        "def rpower2(n):\n",
        " \n",
        "    return rpower(2,n)\n",
        " \n",
        "def pow2(n):\n",
        " \n",
        "    return 2**n\n",
        "\n"
      ],
      "execution_count": null,
      "outputs": []
    },
    {
      "cell_type": "code",
      "metadata": {
        "id": "wnWyhoKHANoo"
      },
      "source": [
        "timingAnalysis(power2,20000,80000,20000,3)\n",
        "print('\\n\\n')\n",
        "timingAnalysis(rpower2,20000,80000,20000,3)\n",
        "print('\\n\\n')\n",
        "timingAnalysis(pow2,20000,80000,20000,3)\n",
        "print('\\n\\n')"
      ],
      "execution_count": null,
      "outputs": []
    },
    {
      "cell_type": "markdown",
      "metadata": {
        "id": "xCseygU-lbWw"
      },
      "source": [
        "Reposta : ** Os tempos de execução de power2() são significativamente piores do que os outros dois. É interessante que os tempos de execução de pow2() e rpow2() são muito, muito próximos. Parece que o operador embutido * * usa uma técnica equivalente à nossa solução recursiva.**\n"
      ]
    },
    {
      "cell_type": "markdown",
      "metadata": {
        "id": "KR57W_qiIBpD"
      },
      "source": [
        "Problema Prático 10.7\n",
        "\n",
        "Usando um experimento, analise o tempo de execução das funções dup1(), dup2(), dup(3) e dup(4). Você deverá testar cada função nas 10 listas de tamanho 2000, 4000, 6000 e 8000, obtidas por:\n",
        "```\n",
        "import random\n",
        "\n",
        "def buildInput(n):\n",
        "\n",
        "    'retorna uma lista de n inteiros aleatórios no intervalo [0, n**2]'\n",
        "\n",
        "    res = []\n",
        "\n",
        "    for i in range(n):\n",
        "\n",
        "        res.append(random.choice(range(n**2)))\n",
        "\n",
        "    return res\n",
        "```\n",
        "Observe que a lista retornada por essa função é obtida escolhendo repetidamente n números no intervalo de 0 a n2 – 1 e pode ou não conter duplicatas. Ao terminar, comente os resultados."
      ]
    },
    {
      "cell_type": "code",
      "metadata": {
        "id": "4PzHeKxuIElk"
      },
      "source": [
        "import random\n",
        " \n",
        "def buildInput(n):\n",
        " \n",
        "    'retorna uma lista de n inteiros aleatórios no intervalo [0, n**2]'\n",
        " \n",
        "    res = []\n",
        " \n",
        "    for i in range(n):\n",
        " \n",
        "        res.append(random.choice(range(n**2)))\n",
        " \n",
        "    return res\n",
        "\n",
        "def dup1(lst):\n",
        "  'retorna True se lista lst tiver duplicatas; caso contrário, False'\n",
        "  for item in lst:\n",
        "    if lst.count(item) > 1:\n",
        "      return True\n",
        "  \n",
        "  return False\n",
        "def dup2(lst):\n",
        "  'retorna True se lista lst tiver duplicatas; caso contrário, False'\n",
        "  lst.sort()\n",
        "  for index in range(1, len(lst)):\n",
        "    if lst[index] == lst[index-1]:\n",
        "      return True\n",
        "  return False\n",
        "\n",
        "def dup3(lst):\n",
        "  'retorna True se lista lst tiver duplicatas, caso contrário, False'\n",
        "  s = set()\n",
        "  for item in lst:\n",
        "    if item in s:\n",
        "      return False\n",
        "    else:\n",
        "      s.add(item)\n",
        "  return True\n",
        "\n",
        "def dup4(lst):\n",
        "  'retorna True se lista lst tiver duplicatas, caso contrário, False'\n",
        "  return len(lst) != len(set(lst))"
      ],
      "execution_count": null,
      "outputs": []
    },
    {
      "cell_type": "code",
      "metadata": {
        "id": "Fsqb3Bk0MyW4"
      },
      "source": [
        "timingAnalysis(dup1,2000,8000,2000,10)\n",
        "print('\\n\\n')\n",
        "timingAnalysis(dup2,2000,8000,2000,10)\n",
        "print('\\n\\n')\n",
        "timingAnalysis(dup3,2000,8000,2000,10)\n",
        "print('\\n\\n')\n",
        "timingAnalysis(dup4,2000,8000,2000,10)\n",
        "print('\\n\\n')"
      ],
      "execution_count": null,
      "outputs": []
    },
    {
      "cell_type": "markdown",
      "metadata": {
        "id": "6cuEsNypLuLE"
      },
      "source": [
        "Reposta : **Embora dup2() tenha a etapa de classificação adicional, você notará que dup1() é muito mais lenta. Isso significa que a técnica das múltiplas buscas lineares de dup1() é bastante ineficaz. As técnicas de dicionário e conjunto em dup3() e dup4() foram melhores, com a técnica de conjunto vencendo de modo geral. O único problema com essas duas técnicas é que ambas usam um contêiner extra, de modo que ocupam mais espaço de memória.**"
      ]
    },
    {
      "cell_type": "markdown",
      "metadata": {
        "id": "RJ8RO29MIGXf"
      },
      "source": [
        "Problema Prático 10.8\n",
        "\n",
        "Implemente a função frequent2(), que usa um dicionário para calcular a frequência de cada item na lista de entrada e retorna o item que ocorre com mais frequência. Depois, realize um experimento e compare os tempos de execução de frequent() e frequent2() em uma lista obtida usando a função buildInput(), definida no Problema Prático 10.7."
      ]
    },
    {
      "cell_type": "code",
      "metadata": {
        "id": "Wt0GwOZSIGD4"
      },
      "source": [
        "def frequent(lst):\n",
        "  '''retorna item que ocorre com mais frequência\n",
        "     na lista lst não vazia'''\n",
        "  lst.sort()                   # primeiro classifica lista\n",
        "  currentLen = 1               # tamanho da sequência atual\n",
        "  longestLen = 1               # tamanho da sequência mais longa\n",
        "  mostFreq   = lst[0]          # item com sequência mais longa\n",
        "  for i in range(1, len(lst)):\n",
        "   # compara item atual com anterior\n",
        "    if lst[i] == lst[i-1]:  # se igual\n",
        "                            # sequência atual continua\n",
        "      currentLen+=1\n",
        "    else: # se não igual\n",
        "          # atualiza sequência mais longa, se necessário\n",
        "      if currentLen > longestLen:    # se sequência que terminou\n",
        "        longestLen = currentLen    # armazena seu tamanho\n",
        "        mostFreq = lst[i-1]        # e o item\n",
        "                                   # inicia nova sequência\n",
        "      currentLen = 1\n",
        "\n",
        "  return mostFreq\n",
        "def frequent2(lst):\n",
        "  'retorna frequência dos itens em listaItens'\n",
        "  contadores = {}          # inicializa dicionário de contadores\n",
        "  for item in lst:\n",
        "    if item in contadores:   # contador para o item já existe\n",
        "     contadores[item] += 1    # portanto, incrementa\n",
        "    else:                    # contador para item é criado\n",
        "     contadores[item] = 1     # e inicializado em 1\n",
        "  return contadores"
      ],
      "execution_count": null,
      "outputs": []
    },
    {
      "cell_type": "code",
      "metadata": {
        "id": "TKltSrLSJBaU"
      },
      "source": [
        "timingAnalysis(frequent,2000,8000,2000,10)\n",
        "print('\\n\\n')\n",
        "timingAnalysis(frequent2,2000,8000,2000,10)\n",
        "print('\\n\\n')"
      ],
      "execution_count": null,
      "outputs": []
    }
  ]
}