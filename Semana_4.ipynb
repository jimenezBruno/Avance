{
  "nbformat": 4,
  "nbformat_minor": 0,
  "metadata": {
    "colab": {
      "name": "Semana_4.ipynb",
      "provenance": [],
      "private_outputs": true,
      "collapsed_sections": [
        "jqsZbW3OJlfA"
      ],
      "authorship_tag": "ABX9TyOMAsxM+FMKtuAYu9bDX25S",
      "include_colab_link": true
    },
    "kernelspec": {
      "name": "python3",
      "display_name": "Python 3"
    }
  },
  "cells": [
    {
      "cell_type": "markdown",
      "metadata": {
        "id": "view-in-github",
        "colab_type": "text"
      },
      "source": [
        "<a href=\"https://colab.research.google.com/github/rafaelmgr12/UNIVESP-AlgeProg2/blob/master/Semana_4.ipynb\" target=\"_parent\"><img src=\"https://colab.research.google.com/assets/colab-badge.svg\" alt=\"Open In Colab\"/></a>"
      ]
    },
    {
      "cell_type": "markdown",
      "metadata": {
        "id": "olEi2OIcJi1O"
      },
      "source": [
        "# Semana 4"
      ]
    },
    {
      "cell_type": "markdown",
      "metadata": {
        "id": "t4CqEDxgJl2m"
      },
      "source": [
        "##Pilha\n",
        "\n"
      ]
    },
    {
      "cell_type": "markdown",
      "metadata": {
        "id": "v12W1a1YJlxc"
      },
      "source": [
        "Definição: estrutura para armazenar um\n",
        "conjunto de elementos, da seguinte forma:\n",
        "- Novos elementos sempre entram no 'topo' da\n",
        "pilha\n",
        "- O único elemento que se pode retirar da pilha\n",
        "em um dado momento é o elemento do topo\n",
        "\n",
        "Principais usos: modelagem de situações onde\n",
        "é preciso 'guardar para mais tarde' vários\n",
        "elementos e lembrar sempre do último\n",
        "elemento armazenado."
      ]
    },
    {
      "cell_type": "markdown",
      "metadata": {
        "id": "N3azvGXgJltk"
      },
      "source": [
        "A cada comando call\n",
        "- Empilha (push) o endereço para retornar\n",
        "depois\n",
        "- Passa a executar a nova função\n",
        "A cada comando return\n",
        "- Desempilha (pop) o último endereço\n",
        "armazenado\n",
        "- Passa a executar a partir do endereço\n",
        "desempilhado"
      ]
    },
    {
      "cell_type": "markdown",
      "metadata": {
        "id": "GcDYNB_IJlpY"
      },
      "source": [
        "Operações usuais:\n",
        "- push(): empilha um elemento na pilha\n",
        "- pop(): desempilha o elemento no topo da\n",
        "pilha\n",
        "- top(): acessa o elemento do topo, sem\n",
        "desempilhá-lo\n",
        "- empty(): verifica se a pilha está vazia"
      ]
    },
    {
      "cell_type": "markdown",
      "metadata": {
        "id": "Ibo_lziuJlls"
      },
      "source": [
        "### Exercício\n",
        "\n",
        "Implementar um programa em Python que\n",
        "realiza a conversão decimal para binário\n",
        "usando pilha"
      ]
    },
    {
      "cell_type": "code",
      "metadata": {
        "id": "IGn04Wvbnzbj"
      },
      "source": [
        "# Código usado pelo professor\n",
        "# Criando uma classe\n",
        "# Porém uma pilha é similiar a a pilha\n",
        "\n",
        "class Pilha():\n",
        "  def __init__(self):\n",
        "    self.data = []\n",
        "  \n",
        "  def push(self,x):\n",
        "    self.data.append(x)\n",
        "  \n",
        "  def pop(self):\n",
        "    if len(self.data) > 0:\n",
        "      return self.data.pop(-1)\n",
        "  \n",
        "  def top(self):\n",
        "    if len(self.data)>0:\n",
        "      return self.data[-1]\n",
        "\n",
        "  def empty(self):\n",
        "    return not len(self.data) > 0\n",
        "\n",
        "def binaryI(num,l):\n",
        "  while num > 0:\n",
        "    resto = num%2\n",
        "    num = num //2\n",
        "    l.push(resto) ### funcão metodo da classe\n",
        "\n",
        "def binaryR(num,l):  \n",
        "  if num > 1: \n",
        "    binaryR(num // 2,l)\n",
        "  \n",
        "  l.push(num%2) \n",
        "\n",
        "def dectobin(decimal):\n",
        "    if(decimal > 0):\n",
        "        dectobin((int)(decimal/2))\n",
        "        print(decimal%2, end='')"
      ],
      "execution_count": null,
      "outputs": []
    },
    {
      "cell_type": "code",
      "metadata": {
        "id": "LSfbGDlQ9QFV"
      },
      "source": [
        "pi = Pilha()\n",
        "pr = Pilha()\n",
        "\n",
        "print('Versão iterativa\\n')\n",
        "binaryI(13,pi)\n",
        "\n",
        "while not pi.empty():\n",
        "  print(pi.pop(),'\\n')\n",
        "\n",
        "print('\\nVersão Recursiva\\n')\n",
        "binaryR(13,pr)\n",
        "\n",
        "while not pr.empty():\n",
        "  print(pr.pop(),'\\n')"
      ],
      "execution_count": null,
      "outputs": []
    },
    {
      "cell_type": "markdown",
      "metadata": {
        "id": "uA4JYIrkJliF"
      },
      "source": [
        "## Filas"
      ]
    },
    {
      "cell_type": "markdown",
      "metadata": {
        "id": "jqsZbW3OJlfA"
      },
      "source": [
        "### Problema: fila de banco\n",
        "\n",
        "Quais operações possíveis?\n",
        "- Entrar na fila: quem entra,\n",
        "entra onde?\n",
        "- Sair da fila: quem sai, sai\n",
        "de onde?\n",
        "- Avançar na fila\n",
        "\n",
        "\n",
        "<img src=\"https://marcelolopes10.com.br/wp-content/uploads/2018/11/Ser%C3%A1-o-fim-das-filas.png\" width = 400 />\n"
      ]
    },
    {
      "cell_type": "markdown",
      "metadata": {
        "id": "HKp83_LYJlcA"
      },
      "source": [
        "Definição: **estrutura para armazenar um\n",
        "conjunto de elementos, que funciona da\n",
        "seguinte forma:**\n",
        "- Novos elementos sempre entram no fim da\n",
        "fila\n",
        "- O único elemento que pode ser retirado da\n",
        "fila, em um determinado momento, é seu\n",
        "primeiro elemento"
      ]
    },
    {
      "cell_type": "markdown",
      "metadata": {
        "id": "gA3nemIPJlZO"
      },
      "source": [
        "Para que serve?\n",
        "Modelar situações em que é preciso armazenar\n",
        "um conjunto ordenado de elementos, no qual o\n",
        "primeiro elemento a entrar no conjunto será\n",
        "também o primeiro elemento a sair, e assim por\n",
        "diante."
      ]
    },
    {
      "cell_type": "markdown",
      "metadata": {
        "id": "guEaPHxxJlWo"
      },
      "source": [
        "Operações usuais:\n",
        "- inserir(): insere um elemento no fim da fila\n",
        "- remover(): remove o primeiro elemento da fila\n",
        "- empty(): verifica se a fila está vazia"
      ]
    },
    {
      "cell_type": "markdown",
      "metadata": {
        "id": "Fjek3X_WJlUJ"
      },
      "source": [
        "### Exercício\n"
      ]
    },
    {
      "cell_type": "markdown",
      "metadata": {
        "id": "RHaSSUYBJlR0"
      },
      "source": [
        "Implementar um programa de gerenciamento\n",
        "de duas filas em um banco: prioritária e\n",
        "normal.\n",
        "Seu programa deverá permitir que pessoas\n",
        "sejam inseridas no fim de cada fila,\n",
        "dependendo da idade de cada uma (acima de\n",
        "60 anos entra na fila prioritária).\n",
        "A saída de pessoas da fila deve ocorrer da\n",
        "seguinte forma: a cada duas pessoas que\n",
        "saem da fila prioritária, uma sai da fila normal."
      ]
    },
    {
      "cell_type": "code",
      "metadata": {
        "id": "5wy7ieZKcbLB"
      },
      "source": [
        ""
      ],
      "execution_count": null,
      "outputs": []
    },
    {
      "cell_type": "markdown",
      "metadata": {
        "id": "US26g0w4JlPi"
      },
      "source": [
        ""
      ]
    },
    {
      "cell_type": "markdown",
      "metadata": {
        "id": "YVo5FIoeJlNY"
      },
      "source": [
        ""
      ]
    },
    {
      "cell_type": "markdown",
      "metadata": {
        "id": "wUs-CpgdJlLV"
      },
      "source": [
        ""
      ]
    },
    {
      "cell_type": "markdown",
      "metadata": {
        "id": "tSHhgaNVJlJE"
      },
      "source": [
        ""
      ]
    },
    {
      "cell_type": "code",
      "metadata": {
        "id": "SrZDdHfVL6-C"
      },
      "source": [
        ""
      ],
      "execution_count": null,
      "outputs": []
    }
  ]
}