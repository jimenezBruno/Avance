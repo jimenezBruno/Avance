{
  "nbformat": 4,
  "nbformat_minor": 0,
  "metadata": {
    "kernelspec": {
      "display_name": "Python 3",
      "language": "python",
      "name": "python3"
    },
    "language_info": {
      "codemirror_mode": {
        "name": "ipython",
        "version": 3
      },
      "file_extension": ".py",
      "mimetype": "text/x-python",
      "name": "python",
      "nbconvert_exporter": "python",
      "pygments_lexer": "ipython3",
      "version": "3.6.9"
    },
    "colab": {
      "name": "Groupby.ipynb",
      "provenance": [],
      "private_outputs": true,
      "include_colab_link": true
    }
  },
  "cells": [
    {
      "cell_type": "markdown",
      "metadata": {
        "id": "view-in-github",
        "colab_type": "text"
      },
      "source": [
        "<a href=\"https://colab.research.google.com/github/rafaelmgr12/UNIVESP-AlgeProg2/blob/master/apendice/Pandas/Groupby.ipynb\" target=\"_parent\"><img src=\"https://colab.research.google.com/assets/colab-badge.svg\" alt=\"Open In Colab\"/></a>"
      ]
    },
    {
      "cell_type": "markdown",
      "metadata": {
        "collapsed": true,
        "id": "YRKQA02aak09"
      },
      "source": [
        "# Groupby\n",
        "\n",
        "O método groupby permite agrupar linhas de dados em conjunto e chamar funções agregadas"
      ]
    },
    {
      "cell_type": "code",
      "metadata": {
        "id": "hjzA71aLak09"
      },
      "source": [
        "import pandas as pd\n",
        "# Cria um DataFrame\n",
        "data = {'Empresa':['GOOG','GOOG','MSFT','MSFT','FB','FB'],\n",
        "       'Nome':['Sam','Charlie','Amy','Vanessa','Carl','Sarah'],\n",
        "       'Venda':[200,120,340,124,243,350]}"
      ],
      "execution_count": null,
      "outputs": []
    },
    {
      "cell_type": "code",
      "metadata": {
        "id": "VKOD87cNak1C"
      },
      "source": [
        "df = pd.DataFrame(data)"
      ],
      "execution_count": null,
      "outputs": []
    },
    {
      "cell_type": "code",
      "metadata": {
        "id": "ua9gz0ESak1H"
      },
      "source": [
        "df"
      ],
      "execution_count": null,
      "outputs": []
    },
    {
      "cell_type": "markdown",
      "metadata": {
        "id": "hYeozinlak1M"
      },
      "source": [
        "** Agora, você pode usar o método .group by () para agrupar as linhas em conjunto com base em um nome de coluna. Por exemplo, vamos agrupar com base na empresa. Isso criará um objeto DataFrameGroupBy:**"
      ]
    },
    {
      "cell_type": "code",
      "metadata": {
        "id": "1mrRj7Jeak1M"
      },
      "source": [
        "df.groupby('Empresa')"
      ],
      "execution_count": null,
      "outputs": []
    },
    {
      "cell_type": "markdown",
      "metadata": {
        "id": "zW2U_lY5ak1Q"
      },
      "source": [
        "Você pode salvar este objeto como uma nova variável:"
      ]
    },
    {
      "cell_type": "code",
      "metadata": {
        "id": "UZxNlSE2ak1R"
      },
      "source": [
        "por_companhia = df.groupby(\"Empresa\")"
      ],
      "execution_count": null,
      "outputs": []
    },
    {
      "cell_type": "markdown",
      "metadata": {
        "id": "GjeZWs3iak1V"
      },
      "source": [
        "E, em seguida, chamar métodos agregados do objeto:"
      ]
    },
    {
      "cell_type": "code",
      "metadata": {
        "id": "2pYgdKzwak1W"
      },
      "source": [
        "por_companhia.mean()"
      ],
      "execution_count": null,
      "outputs": []
    },
    {
      "cell_type": "code",
      "metadata": {
        "id": "FN2rPcDpak1b"
      },
      "source": [
        "df.groupby('Empresa').mean()"
      ],
      "execution_count": null,
      "outputs": []
    },
    {
      "cell_type": "markdown",
      "metadata": {
        "id": "B7oHZ7G3ak1e"
      },
      "source": [
        "Mais exemplos de métodos agregados:"
      ]
    },
    {
      "cell_type": "code",
      "metadata": {
        "id": "1zaH34Yxak1f"
      },
      "source": [
        "por_companhia.std()"
      ],
      "execution_count": null,
      "outputs": []
    },
    {
      "cell_type": "code",
      "metadata": {
        "id": "fNA_HY9Yak1i"
      },
      "source": [
        "por_companhia.min()"
      ],
      "execution_count": null,
      "outputs": []
    },
    {
      "cell_type": "code",
      "metadata": {
        "id": "JJ9i8jxYak1l"
      },
      "source": [
        "por_companhia.max()"
      ],
      "execution_count": null,
      "outputs": []
    },
    {
      "cell_type": "code",
      "metadata": {
        "id": "qjyCE2sXak1o"
      },
      "source": [
        "por_companhia.count()"
      ],
      "execution_count": null,
      "outputs": []
    },
    {
      "cell_type": "code",
      "metadata": {
        "id": "AXMowG9jak1r"
      },
      "source": [
        "por_companhia.describe()"
      ],
      "execution_count": null,
      "outputs": []
    },
    {
      "cell_type": "code",
      "metadata": {
        "id": "YWlZHdQ1ak1u"
      },
      "source": [
        "por_companhia.describe().transpose()"
      ],
      "execution_count": null,
      "outputs": []
    },
    {
      "cell_type": "code",
      "metadata": {
        "id": "gq09K_bMak1y"
      },
      "source": [
        "por_companhia.describe().transpose()['GOOG']"
      ],
      "execution_count": null,
      "outputs": []
    }
  ]
}