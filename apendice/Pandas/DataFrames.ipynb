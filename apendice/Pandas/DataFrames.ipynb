{
  "nbformat": 4,
  "nbformat_minor": 0,
  "metadata": {
    "kernelspec": {
      "display_name": "Python 3",
      "language": "python",
      "name": "python3"
    },
    "language_info": {
      "codemirror_mode": {
        "name": "ipython",
        "version": 3
      },
      "file_extension": ".py",
      "mimetype": "text/x-python",
      "name": "python",
      "nbconvert_exporter": "python",
      "pygments_lexer": "ipython3",
      "version": "3.6.9"
    },
    "colab": {
      "name": "DataFrames.ipynb",
      "provenance": [],
      "private_outputs": true,
      "collapsed_sections": [
        "-IbzKho-agly",
        "rnpwvrWAagmc",
        "0JHDkMoyagnK"
      ],
      "include_colab_link": true
    }
  },
  "cells": [
    {
      "cell_type": "markdown",
      "metadata": {
        "id": "view-in-github",
        "colab_type": "text"
      },
      "source": [
        "<a href=\"https://colab.research.google.com/github/rafaelmgr12/UNIVESP-AlgeProg2/blob/master/apendice/Pandas/DataFrames.ipynb\" target=\"_parent\"><img src=\"https://colab.research.google.com/assets/colab-badge.svg\" alt=\"Open In Colab\"/></a>"
      ]
    },
    {
      "cell_type": "markdown",
      "metadata": {
        "id": "BAqXGZrHagjZ"
      },
      "source": [
        "# DataFrames\n",
        "\n",
        "DataFrame é o elemeto mais importante dos Pandas e são diretamente inspirados pela linguagem de programação R. Podemos pensar em um DataFrame como um monte de objetos da série juntos para compartilhar o mesmo índice. Vamos usar Pandas para explorar esse tópico!"
      ]
    },
    {
      "cell_type": "code",
      "metadata": {
        "jupyter": {
          "outputs_hidden": true
        },
        "id": "2BmQ7YjRagja"
      },
      "source": [
        "import pandas as pd\n",
        "import numpy as np"
      ],
      "execution_count": null,
      "outputs": []
    },
    {
      "cell_type": "code",
      "metadata": {
        "jupyter": {
          "outputs_hidden": true
        },
        "id": "xr1LYI2Nagjg"
      },
      "source": [
        "from numpy.random import randn\n",
        "np.random.seed(101)"
      ],
      "execution_count": null,
      "outputs": []
    },
    {
      "cell_type": "code",
      "metadata": {
        "jupyter": {
          "outputs_hidden": true
        },
        "id": "SHCfd4KCagjs"
      },
      "source": [
        "df = pd.DataFrame(randn(5,4),index='A B C D E'.split(),columns='W X Y Z'.split())"
      ],
      "execution_count": null,
      "outputs": []
    },
    {
      "cell_type": "code",
      "metadata": {
        "id": "8yDkqWpGagj-"
      },
      "source": [
        "df"
      ],
      "execution_count": null,
      "outputs": []
    },
    {
      "cell_type": "markdown",
      "metadata": {
        "id": "d2g9sOG6agkF"
      },
      "source": [
        "## Seleção e indexação\n",
        "\n",
        "Vamos aprender os vários métodos para pegar dados de um DataFrame"
      ]
    },
    {
      "cell_type": "code",
      "metadata": {
        "id": "5PZCLvMHagkL"
      },
      "source": [
        "df['W']"
      ],
      "execution_count": null,
      "outputs": []
    },
    {
      "cell_type": "code",
      "metadata": {
        "id": "kwunyHIcagkQ"
      },
      "source": [
        "# Passando uma lista com nomes das colunas\n",
        "df[['W','Z']]"
      ],
      "execution_count": null,
      "outputs": []
    },
    {
      "cell_type": "code",
      "metadata": {
        "id": "Wa8_eRUDagkb"
      },
      "source": [
        "# Sintaxe SQL (Não recomendado!)\n",
        "df.W"
      ],
      "execution_count": null,
      "outputs": []
    },
    {
      "cell_type": "markdown",
      "metadata": {
        "id": "01Mufx0Magkg"
      },
      "source": [
        "As colunas dos DataFrames são Series"
      ]
    },
    {
      "cell_type": "code",
      "metadata": {
        "id": "u1k5zaEeagkh"
      },
      "source": [
        "type(df['W'])"
      ],
      "execution_count": null,
      "outputs": []
    },
    {
      "cell_type": "markdown",
      "metadata": {
        "id": "8e-9S-ETagko"
      },
      "source": [
        "** Criando uma coluna: **"
      ]
    },
    {
      "cell_type": "code",
      "metadata": {
        "jupyter": {
          "outputs_hidden": true
        },
        "id": "uRvngE5Dagks"
      },
      "source": [
        "df['new'] = df['W'] + df['Y']"
      ],
      "execution_count": null,
      "outputs": []
    },
    {
      "cell_type": "code",
      "metadata": {
        "id": "7uQl7JKFagkw"
      },
      "source": [
        "df"
      ],
      "execution_count": null,
      "outputs": []
    },
    {
      "cell_type": "markdown",
      "metadata": {
        "id": "BaB1f3YBagk0"
      },
      "source": [
        "** Removendo colunas **"
      ]
    },
    {
      "cell_type": "code",
      "metadata": {
        "id": "hK_CmOooagk1"
      },
      "source": [
        "df.drop('new',axis=1)"
      ],
      "execution_count": null,
      "outputs": []
    },
    {
      "cell_type": "code",
      "metadata": {
        "id": "AhCxgwzuagk9"
      },
      "source": [
        "# Porém, tal exclusão só ocorrerá se especificada no parâmetro inplace\n",
        "df"
      ],
      "execution_count": null,
      "outputs": []
    },
    {
      "cell_type": "code",
      "metadata": {
        "jupyter": {
          "outputs_hidden": true
        },
        "id": "A3kjsCPHaglD"
      },
      "source": [
        "df.drop('new',axis=1,inplace=True)"
      ],
      "execution_count": null,
      "outputs": []
    },
    {
      "cell_type": "code",
      "metadata": {
        "id": "pB__uACfaglJ"
      },
      "source": [
        "df"
      ],
      "execution_count": null,
      "outputs": []
    },
    {
      "cell_type": "markdown",
      "metadata": {
        "id": "Ic7eo_5GaglP"
      },
      "source": [
        "Também podemos deletar colunas desta forma:"
      ]
    },
    {
      "cell_type": "code",
      "metadata": {
        "id": "V5Rk3UcaaglR"
      },
      "source": [
        "df.drop('E',axis=0)"
      ],
      "execution_count": null,
      "outputs": []
    },
    {
      "cell_type": "markdown",
      "metadata": {
        "id": "2wtBttgNaglV"
      },
      "source": [
        "** Selecionando linhas: **"
      ]
    },
    {
      "cell_type": "code",
      "metadata": {
        "id": "YNDFRbtNaglW"
      },
      "source": [
        "df.loc['A']"
      ],
      "execution_count": null,
      "outputs": []
    },
    {
      "cell_type": "markdown",
      "metadata": {
        "id": "zwebWc47agle"
      },
      "source": [
        "Ou selecione com base na posição em vez do rótulo"
      ]
    },
    {
      "cell_type": "code",
      "metadata": {
        "id": "SYSxG9W8aglf"
      },
      "source": [
        "df.iloc[2]"
      ],
      "execution_count": null,
      "outputs": []
    },
    {
      "cell_type": "markdown",
      "metadata": {
        "id": "x4ayQ9ncagll"
      },
      "source": [
        "** Selecionando o subconjunto de linhas e colunas **"
      ]
    },
    {
      "cell_type": "code",
      "metadata": {
        "id": "U39H6Dwoaglm"
      },
      "source": [
        "df.loc['B','Y']"
      ],
      "execution_count": null,
      "outputs": []
    },
    {
      "cell_type": "code",
      "metadata": {
        "id": "ne_xDBGGaglt"
      },
      "source": [
        "df.loc[['A','B'],['W','Y']]"
      ],
      "execution_count": null,
      "outputs": []
    },
    {
      "cell_type": "markdown",
      "metadata": {
        "id": "-IbzKho-agly"
      },
      "source": [
        "### Seleção condicional\n",
        "\n",
        "Uma característica importante dos pandas é a seleção condicional usando notação de colchetes, muito semelhante ao numpy:"
      ]
    },
    {
      "cell_type": "code",
      "metadata": {
        "id": "cjjdzM8fagl0"
      },
      "source": [
        "df"
      ],
      "execution_count": null,
      "outputs": []
    },
    {
      "cell_type": "code",
      "metadata": {
        "id": "hzECOquhagl6"
      },
      "source": [
        "df>0"
      ],
      "execution_count": null,
      "outputs": []
    },
    {
      "cell_type": "code",
      "metadata": {
        "id": "v2EEceK2agl_"
      },
      "source": [
        "df[df>0]"
      ],
      "execution_count": null,
      "outputs": []
    },
    {
      "cell_type": "code",
      "metadata": {
        "id": "hTOuJguvagmF"
      },
      "source": [
        "df[df['W']>0]"
      ],
      "execution_count": null,
      "outputs": []
    },
    {
      "cell_type": "code",
      "metadata": {
        "id": "1a7UsgBEagmK"
      },
      "source": [
        "df[df['W']>0]['Y']"
      ],
      "execution_count": null,
      "outputs": []
    },
    {
      "cell_type": "code",
      "metadata": {
        "id": "6mn3TVa3agmQ"
      },
      "source": [
        "df[df['W']>0][['Y','X']]"
      ],
      "execution_count": null,
      "outputs": []
    },
    {
      "cell_type": "markdown",
      "metadata": {
        "id": "qP42ZnrMagmU"
      },
      "source": [
        "Para duas condições, você pode usar | e & com parênteses:"
      ]
    },
    {
      "cell_type": "code",
      "metadata": {
        "id": "Gl7sPiP2agmW"
      },
      "source": [
        "df[(df['W']>0) & (df['Y'] > 1)]"
      ],
      "execution_count": null,
      "outputs": []
    },
    {
      "cell_type": "markdown",
      "metadata": {
        "id": "rnpwvrWAagmc"
      },
      "source": [
        "## Mais Detalhes do Índice\n",
        "\n",
        "Vamos discutir mais alguns recursos de indexação, incluindo resetar o índice ou configurá-lo de outra forma. Também falaremos sobre hierarquia de índice!"
      ]
    },
    {
      "cell_type": "code",
      "metadata": {
        "id": "ZzsHYRiFagmc"
      },
      "source": [
        "df"
      ],
      "execution_count": null,
      "outputs": []
    },
    {
      "cell_type": "code",
      "metadata": {
        "id": "8fWnP_u3agmj"
      },
      "source": [
        "# Redefinir para o padrão 0,1 ... n índice\n",
        "df.reset_index()"
      ],
      "execution_count": null,
      "outputs": []
    },
    {
      "cell_type": "code",
      "metadata": {
        "collapsed": true,
        "jupyter": {
          "outputs_hidden": true
        },
        "id": "oAvonPNyagmo"
      },
      "source": [
        "novoind = 'CA NY WY OR CO'.split()"
      ],
      "execution_count": null,
      "outputs": []
    },
    {
      "cell_type": "code",
      "metadata": {
        "collapsed": true,
        "jupyter": {
          "outputs_hidden": true
        },
        "id": "VHKfqldwagmt"
      },
      "source": [
        "df['Estados'] = novoind"
      ],
      "execution_count": null,
      "outputs": []
    },
    {
      "cell_type": "code",
      "metadata": {
        "id": "aF6hj4p5agmz"
      },
      "source": [
        "df"
      ],
      "execution_count": null,
      "outputs": []
    },
    {
      "cell_type": "code",
      "metadata": {
        "id": "5EUXuJEtagm2"
      },
      "source": [
        "df.set_index('Estados')"
      ],
      "execution_count": null,
      "outputs": []
    },
    {
      "cell_type": "code",
      "metadata": {
        "id": "q4X98-Hnagm6"
      },
      "source": [
        "df"
      ],
      "execution_count": null,
      "outputs": []
    },
    {
      "cell_type": "code",
      "metadata": {
        "collapsed": true,
        "jupyter": {
          "outputs_hidden": true
        },
        "id": "kk6iKbxtagnB"
      },
      "source": [
        "df.set_index('Estados',inplace=True)"
      ],
      "execution_count": null,
      "outputs": []
    },
    {
      "cell_type": "code",
      "metadata": {
        "id": "FFPYmHmVagnE"
      },
      "source": [
        "df"
      ],
      "execution_count": null,
      "outputs": []
    },
    {
      "cell_type": "markdown",
      "metadata": {
        "id": "0JHDkMoyagnK"
      },
      "source": [
        "## Hierarquia de índices e índices múltiplos\n",
        "\n",
        "Vamos examinar como trabalhar com o Multi-Index, primeiro criaremos um exemplo rápido de como seria um DataFrame Multi-Indexado:"
      ]
    },
    {
      "cell_type": "code",
      "metadata": {
        "collapsed": true,
        "jupyter": {
          "outputs_hidden": true
        },
        "id": "S5Yx87CdagnK"
      },
      "source": [
        "# Níveis de Índice\n",
        "outside = ['G1','G1','G1','G2','G2','G2']\n",
        "inside = [1,2,3,1,2,3]\n",
        "hier_index = list(zip(outside,inside))\n",
        "hier_index = pd.MultiIndex.from_tuples(hier_index)"
      ],
      "execution_count": null,
      "outputs": []
    },
    {
      "cell_type": "code",
      "metadata": {
        "id": "Tj6B2qVzagnQ"
      },
      "source": [
        "hier_index"
      ],
      "execution_count": null,
      "outputs": []
    },
    {
      "cell_type": "code",
      "metadata": {
        "id": "WD55g8ilagnY"
      },
      "source": [
        "df = pd.DataFrame(np.random.randn(6,2),index=hier_index,columns=['A','B'])\n",
        "df"
      ],
      "execution_count": null,
      "outputs": []
    },
    {
      "cell_type": "markdown",
      "metadata": {
        "id": "Iw2enfAjagnk"
      },
      "source": [
        "Agora vamos mostrar como indexar isso! Para a hierarquia de índice, usamos df.loc []. Se este fosse no eixo das colunas, você usaria a notação de suporte normal df []. Chamar um nível do índice retorna um sub-dataframe:"
      ]
    },
    {
      "cell_type": "code",
      "metadata": {
        "id": "Hzu0aMRiagnl"
      },
      "source": [
        "df.loc['G1']"
      ],
      "execution_count": null,
      "outputs": []
    },
    {
      "cell_type": "code",
      "metadata": {
        "id": "0-vxJ-d4agnw"
      },
      "source": [
        "df.loc['G1'].loc[1]"
      ],
      "execution_count": null,
      "outputs": []
    },
    {
      "cell_type": "code",
      "metadata": {
        "id": "vorBgzmjagn8"
      },
      "source": [
        "df.index.names"
      ],
      "execution_count": null,
      "outputs": []
    },
    {
      "cell_type": "code",
      "metadata": {
        "collapsed": true,
        "jupyter": {
          "outputs_hidden": true
        },
        "id": "VGbSHtHkagoG"
      },
      "source": [
        "df.index.names = ['Grupo','Número']"
      ],
      "execution_count": null,
      "outputs": []
    },
    {
      "cell_type": "code",
      "metadata": {
        "id": "Vw3oBVp8agoL"
      },
      "source": [
        "df"
      ],
      "execution_count": null,
      "outputs": []
    },
    {
      "cell_type": "code",
      "metadata": {
        "id": "5KNcQpj7agoP"
      },
      "source": [
        "df.xs('G1')"
      ],
      "execution_count": null,
      "outputs": []
    },
    {
      "cell_type": "code",
      "metadata": {
        "id": "3xHOlgclagoU"
      },
      "source": [
        "df.xs(['G1',1])"
      ],
      "execution_count": null,
      "outputs": []
    },
    {
      "cell_type": "code",
      "metadata": {
        "id": "xSh7_PNIagoX"
      },
      "source": [
        "df.xs(1,level='Número')"
      ],
      "execution_count": null,
      "outputs": []
    }
  ]
}