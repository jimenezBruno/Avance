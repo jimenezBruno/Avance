{
  "nbformat": 4,
  "nbformat_minor": 0,
  "metadata": {
    "kernelspec": {
      "display_name": "Python 3",
      "language": "python",
      "name": "python3"
    },
    "language_info": {
      "codemirror_mode": {
        "name": "ipython",
        "version": 3
      },
      "file_extension": ".py",
      "mimetype": "text/x-python",
      "name": "python",
      "nbconvert_exporter": "python",
      "pygments_lexer": "ipython3",
      "version": "3.6.9"
    },
    "colab": {
      "name": "Operações.ipynb",
      "provenance": [],
      "private_outputs": true,
      "include_colab_link": true
    }
  },
  "cells": [
    {
      "cell_type": "markdown",
      "metadata": {
        "id": "view-in-github",
        "colab_type": "text"
      },
      "source": [
        "<a href=\"https://colab.research.google.com/github/rafaelmgr12/UNIVESP-AlgeProg2/blob/master/apendice/Pandas/Opera%C3%A7oes.ipynb\" target=\"_parent\"><img src=\"https://colab.research.google.com/assets/colab-badge.svg\" alt=\"Open In Colab\"/></a>"
      ]
    },
    {
      "cell_type": "markdown",
      "metadata": {
        "collapsed": true,
        "id": "zNjV2K07anPV"
      },
      "source": [
        "# Operações\n",
        "\n",
        "Há muitas operações com pandas que serão realmente úteis para você, mas não se enquadram em nenhuma categoria distinta. Vamos mostrar aqui nesta aula:"
      ]
    },
    {
      "cell_type": "code",
      "metadata": {
        "id": "Eh4Bk9BPanPb"
      },
      "source": [
        "import pandas as pd\n",
        "df = pd.DataFrame({'col1':[1,2,3,4],'col2':[444,555,666,444],'col3':['abc','def','ghi','xyz']})\n",
        "df.head()"
      ],
      "execution_count": null,
      "outputs": []
    },
    {
      "cell_type": "markdown",
      "metadata": {
        "id": "0d7MbUicanPk"
      },
      "source": [
        "### Informação sobre valores exclusivos"
      ]
    },
    {
      "cell_type": "code",
      "metadata": {
        "id": "QCDL4RGkanPl"
      },
      "source": [
        "df['col2'].unique()"
      ],
      "execution_count": null,
      "outputs": []
    },
    {
      "cell_type": "code",
      "metadata": {
        "id": "1WywMfYmanPw"
      },
      "source": [
        "df['col2'].nunique()"
      ],
      "execution_count": null,
      "outputs": []
    },
    {
      "cell_type": "code",
      "metadata": {
        "id": "LBrXxcrYanP1"
      },
      "source": [
        "df['col2'].value_counts()"
      ],
      "execution_count": null,
      "outputs": []
    },
    {
      "cell_type": "markdown",
      "metadata": {
        "id": "xw22XeZVanQC"
      },
      "source": [
        "### Selecionando dados"
      ]
    },
    {
      "cell_type": "code",
      "metadata": {
        "id": "LI6loQ0qanQE"
      },
      "source": [
        "# Selecione do DataFrame usando critérios de várias colunas\n",
        "newdf = df[(df['col1']>2) & (df['col2']==444)]"
      ],
      "execution_count": null,
      "outputs": []
    },
    {
      "cell_type": "code",
      "metadata": {
        "id": "ipIMUVOsanQN"
      },
      "source": [
        "newdf"
      ],
      "execution_count": null,
      "outputs": []
    },
    {
      "cell_type": "markdown",
      "metadata": {
        "id": "yKP71xHkanQW"
      },
      "source": [
        "### Aplicando funções"
      ]
    },
    {
      "cell_type": "code",
      "metadata": {
        "id": "-ehdXIdnanQY"
      },
      "source": [
        "def times2(x):\n",
        "    return x*2"
      ],
      "execution_count": null,
      "outputs": []
    },
    {
      "cell_type": "code",
      "metadata": {
        "id": "ieC3Vy0oanQl"
      },
      "source": [
        "df['col1'].apply(times2)"
      ],
      "execution_count": null,
      "outputs": []
    },
    {
      "cell_type": "code",
      "metadata": {
        "id": "_JPCejyqanQt"
      },
      "source": [
        "df['col3'].apply(len)"
      ],
      "execution_count": null,
      "outputs": []
    },
    {
      "cell_type": "code",
      "metadata": {
        "id": "3EurFQfyanQ2"
      },
      "source": [
        "df['col1'].sum()"
      ],
      "execution_count": null,
      "outputs": []
    },
    {
      "cell_type": "markdown",
      "metadata": {
        "id": "UcBcWU1canQ6"
      },
      "source": [
        "** Removendo colunas permanentemente **"
      ]
    },
    {
      "cell_type": "code",
      "metadata": {
        "id": "jJLQ-R16anQ6"
      },
      "source": [
        "del df['col1']"
      ],
      "execution_count": null,
      "outputs": []
    },
    {
      "cell_type": "code",
      "metadata": {
        "id": "L3BOpX3ianRA"
      },
      "source": [
        "df"
      ],
      "execution_count": null,
      "outputs": []
    },
    {
      "cell_type": "markdown",
      "metadata": {
        "id": "NDTfQaimanRG"
      },
      "source": [
        "** Obter nomes de coluna e índice: **"
      ]
    },
    {
      "cell_type": "code",
      "metadata": {
        "id": "fBRLnK_hanRH"
      },
      "source": [
        "df.columns"
      ],
      "execution_count": null,
      "outputs": []
    },
    {
      "cell_type": "code",
      "metadata": {
        "id": "pCTgfeYaanRL"
      },
      "source": [
        "df.index"
      ],
      "execution_count": null,
      "outputs": []
    },
    {
      "cell_type": "markdown",
      "metadata": {
        "id": "r6C9bGnlanRU"
      },
      "source": [
        "** Ordenando um DataFrame **"
      ]
    },
    {
      "cell_type": "code",
      "metadata": {
        "id": "Rw6hJCqianRV"
      },
      "source": [
        "df"
      ],
      "execution_count": null,
      "outputs": []
    },
    {
      "cell_type": "code",
      "metadata": {
        "id": "iwm5qXCSanRY"
      },
      "source": [
        "df.sort_values(by='col2') #inplace=False por padrão"
      ],
      "execution_count": null,
      "outputs": []
    },
    {
      "cell_type": "markdown",
      "metadata": {
        "id": "4_MVB63janRc"
      },
      "source": [
        "** Encontre Valores Nulos ou Verifique Valores Nulos **"
      ]
    },
    {
      "cell_type": "code",
      "metadata": {
        "id": "8JsPslFPanRc"
      },
      "source": [
        "df.isnull()"
      ],
      "execution_count": null,
      "outputs": []
    },
    {
      "cell_type": "code",
      "metadata": {
        "id": "KpT98JTCanRj"
      },
      "source": [
        "# Deleta linhas com valores NaN\n",
        "df.dropna()"
      ],
      "execution_count": null,
      "outputs": []
    },
    {
      "cell_type": "markdown",
      "metadata": {
        "id": "qWAGrpXPanRo"
      },
      "source": [
        "** Preenchendo os valores de NaN com outra coisa: **"
      ]
    },
    {
      "cell_type": "code",
      "metadata": {
        "id": "4V1N_KjbanRo"
      },
      "source": [
        "import numpy as np"
      ],
      "execution_count": null,
      "outputs": []
    },
    {
      "cell_type": "code",
      "metadata": {
        "id": "2gc0fHBPanRt"
      },
      "source": [
        "df = pd.DataFrame({'col1':[1,2,3,np.nan],\n",
        "                   'col2':[np.nan,555,666,444],\n",
        "                   'col3':['abc','def','ghi','xyz']})\n",
        "df.head()"
      ],
      "execution_count": null,
      "outputs": []
    },
    {
      "cell_type": "code",
      "metadata": {
        "id": "u0eNjR6AanRz"
      },
      "source": [
        "df.fillna('Preencher')"
      ],
      "execution_count": null,
      "outputs": []
    },
    {
      "cell_type": "code",
      "metadata": {
        "id": "idrzArOLanR4"
      },
      "source": [
        "data = {'A':['foo','foo','foo','bar','bar','bar'],\n",
        "     'B':['one','one','two','two','one','one'],\n",
        "       'C':['x','y','x','y','x','y'],\n",
        "       'D':[1,3,2,5,4,1]}\n",
        "\n",
        "df = pd.DataFrame(data)"
      ],
      "execution_count": null,
      "outputs": []
    },
    {
      "cell_type": "code",
      "metadata": {
        "id": "HwKi-6cVanR9"
      },
      "source": [
        "df"
      ],
      "execution_count": null,
      "outputs": []
    },
    {
      "cell_type": "code",
      "metadata": {
        "id": "RmowKL-VanSF"
      },
      "source": [
        "df.pivot_table(values='D',index=['A', 'B'],columns=['C'])"
      ],
      "execution_count": null,
      "outputs": []
    }
  ]
}