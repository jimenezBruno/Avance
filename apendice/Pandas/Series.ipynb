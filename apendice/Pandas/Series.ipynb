{
  "nbformat": 4,
  "nbformat_minor": 0,
  "metadata": {
    "kernelspec": {
      "display_name": "Python 3",
      "language": "python",
      "name": "python3"
    },
    "language_info": {
      "codemirror_mode": {
        "name": "ipython",
        "version": 3
      },
      "file_extension": ".py",
      "mimetype": "text/x-python",
      "name": "python",
      "nbconvert_exporter": "python",
      "pygments_lexer": "ipython3",
      "version": "3.6.9"
    },
    "colab": {
      "name": "Series.ipynb",
      "provenance": [],
      "private_outputs": true,
      "include_colab_link": true
    }
  },
  "cells": [
    {
      "cell_type": "markdown",
      "metadata": {
        "id": "view-in-github",
        "colab_type": "text"
      },
      "source": [
        "<a href=\"https://colab.research.google.com/github/rafaelmgr12/UNIVESP-AlgeProg2/blob/master/apendice/Pandas/Series.ipynb\" target=\"_parent\"><img src=\"https://colab.research.google.com/assets/colab-badge.svg\" alt=\"Open In Colab\"/></a>"
      ]
    },
    {
      "cell_type": "markdown",
      "metadata": {
        "id": "XimPvIJpanT8"
      },
      "source": [
        "# Series\n",
        "\n",
        "O primeiro tipo de dado que aprenderemos é a Serie. Vamos importar Pandas e explorar tal objeto.\n",
        "\n",
        "A Serie é muito semelhante a uma matriz NumPy (na verdade, ela é construída em cima do objeto de matriz NumPy). O que diferencia a matriz NumPy de uma Série, é que uma Serie pode ter rótulos de eixos, o que significa que pode ser indexado por um rótulo, em vez de apenas uma localização numérica. Também não precisa manter dados numéricos, ele pode conter qualquer objeto Python arbitrário.\n",
        "\n",
        "Vamos explorar este conceito através de alguns exemplos:"
      ]
    },
    {
      "cell_type": "code",
      "metadata": {
        "jupyter": {
          "outputs_hidden": true
        },
        "id": "kOp-dqS3anT9"
      },
      "source": [
        "import numpy as np\n",
        "import pandas as pd"
      ],
      "execution_count": null,
      "outputs": []
    },
    {
      "cell_type": "markdown",
      "metadata": {
        "id": "S4eWuTFIanUH"
      },
      "source": [
        "### Criando uma Serie\n",
        "\n",
        "Você pode converter uma lista, numpy array ou dicionário para uma série:"
      ]
    },
    {
      "cell_type": "code",
      "metadata": {
        "jupyter": {
          "outputs_hidden": true
        },
        "id": "O-urtLwJanUI"
      },
      "source": [
        "labels = ['a','b','c']\n",
        "minha_lista = [10,20,30]\n",
        "arr = np.array([10,20,30])\n",
        "d = {'a':10,'b':20,'c':30}"
      ],
      "execution_count": null,
      "outputs": []
    },
    {
      "cell_type": "markdown",
      "metadata": {
        "id": "eijo0dHEanUO"
      },
      "source": [
        "** Usando listas **"
      ]
    },
    {
      "cell_type": "code",
      "metadata": {
        "id": "sObnp1lAanUP"
      },
      "source": [
        "pd.Series(data=minha_lista)"
      ],
      "execution_count": null,
      "outputs": []
    },
    {
      "cell_type": "code",
      "metadata": {
        "id": "-FkNitAranUa"
      },
      "source": [
        "pd.Series(data=minha_lista,index=labels)"
      ],
      "execution_count": null,
      "outputs": []
    },
    {
      "cell_type": "code",
      "metadata": {
        "id": "JVM2qUZAanUl"
      },
      "source": [
        "pd.Series(minha_lista,labels)"
      ],
      "execution_count": null,
      "outputs": []
    },
    {
      "cell_type": "markdown",
      "metadata": {
        "id": "9K8aSpizanUr"
      },
      "source": [
        "** NumPy Arrays **"
      ]
    },
    {
      "cell_type": "code",
      "metadata": {
        "id": "O03hmyioanUs"
      },
      "source": [
        "pd.Series(arr)"
      ],
      "execution_count": null,
      "outputs": []
    },
    {
      "cell_type": "code",
      "metadata": {
        "id": "LMM_AcbmanUx"
      },
      "source": [
        "pd.Series(arr,labels)"
      ],
      "execution_count": null,
      "outputs": []
    },
    {
      "cell_type": "markdown",
      "metadata": {
        "id": "boDv2xHianU3"
      },
      "source": [
        "** Dicionários **"
      ]
    },
    {
      "cell_type": "code",
      "metadata": {
        "id": "PzKTezCSanU5"
      },
      "source": [
        "pd.Series(d)"
      ],
      "execution_count": null,
      "outputs": []
    },
    {
      "cell_type": "markdown",
      "metadata": {
        "id": "WUMjmgAranU9"
      },
      "source": [
        "### Dados nas Series\n",
        "\n",
        "Uma série de pandas pode conter uma variedade de tipos de objeto:"
      ]
    },
    {
      "cell_type": "code",
      "metadata": {
        "id": "-jas59Z_anU-"
      },
      "source": [
        "pd.Series(data=labels)"
      ],
      "execution_count": null,
      "outputs": []
    },
    {
      "cell_type": "code",
      "metadata": {
        "id": "41hlVRNUanVC"
      },
      "source": [
        "# Mesmo funções (embora seja improvável que você use isso)\n",
        "pd.Series([sum,print,len])"
      ],
      "execution_count": null,
      "outputs": []
    },
    {
      "cell_type": "markdown",
      "metadata": {
        "id": "widMNNjGanVH"
      },
      "source": [
        "## Usando um Índice\n",
        "\n",
        "A chave para usar uma Serie é entender seu índice. O Pandas faz uso desses nomes ou números de índice, permitindo pesquisas rápidas de informações (funciona como uma tabela de hash ou dicionário).\n",
        "\n",
        "Vamos ver alguns exemplos de como pegar informações de uma Serie. Vamos criar duas Series, ser1 e ser2:"
      ]
    },
    {
      "cell_type": "code",
      "metadata": {
        "jupyter": {
          "outputs_hidden": true
        },
        "id": "OMwAiZLCanVJ"
      },
      "source": [
        "ser1 = pd.Series([1,2,3,4],index = ['EUA', 'Alemanha','USSR', 'Japão'])                                   "
      ],
      "execution_count": null,
      "outputs": []
    },
    {
      "cell_type": "code",
      "metadata": {
        "id": "iWVAUS1kanVN"
      },
      "source": [
        "ser1"
      ],
      "execution_count": null,
      "outputs": []
    },
    {
      "cell_type": "code",
      "metadata": {
        "jupyter": {
          "outputs_hidden": true
        },
        "id": "6XLB8DwLanVT"
      },
      "source": [
        "ser2 = pd.Series([1,2,5,4],index = ['EUA', 'Alemanha','Italia', 'Japão'])                                   "
      ],
      "execution_count": null,
      "outputs": []
    },
    {
      "cell_type": "code",
      "metadata": {
        "id": "0Zown60HanVb"
      },
      "source": [
        "ser2"
      ],
      "execution_count": null,
      "outputs": []
    },
    {
      "cell_type": "code",
      "metadata": {
        "id": "Yg0bAnzuanVe"
      },
      "source": [
        "ser1['EUA']"
      ],
      "execution_count": null,
      "outputs": []
    },
    {
      "cell_type": "markdown",
      "metadata": {
        "id": "PWfL43fOanVh"
      },
      "source": [
        "As operações também são feitas com base no índice:"
      ]
    },
    {
      "cell_type": "code",
      "metadata": {
        "id": "JQXo5qAcanVh"
      },
      "source": [
        "ser1 + ser2"
      ],
      "execution_count": null,
      "outputs": []
    },
    {
      "cell_type": "markdown",
      "metadata": {
        "id": "DzAcvSm-anVm"
      },
      "source": [
        "Vamos parar aqui por enquanto e passar para a DataFrames, que expandirá o conceito da Serie!"
      ]
    }
  ]
}