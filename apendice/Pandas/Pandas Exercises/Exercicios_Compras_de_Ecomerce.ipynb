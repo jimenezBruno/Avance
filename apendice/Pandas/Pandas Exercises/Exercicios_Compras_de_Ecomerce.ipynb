{
  "nbformat": 4,
  "nbformat_minor": 0,
  "metadata": {
    "kernelspec": {
      "display_name": "Python 3",
      "language": "python",
      "name": "python3"
    },
    "language_info": {
      "codemirror_mode": {
        "name": "ipython",
        "version": 3
      },
      "file_extension": ".py",
      "mimetype": "text/x-python",
      "name": "python",
      "nbconvert_exporter": "python",
      "pygments_lexer": "ipython3",
      "version": "3.6.9"
    },
    "colab": {
      "name": "Exercicios - Compras de Ecomerce.ipynb",
      "provenance": [],
      "private_outputs": true,
      "include_colab_link": true
    }
  },
  "cells": [
    {
      "cell_type": "markdown",
      "metadata": {
        "id": "view-in-github",
        "colab_type": "text"
      },
      "source": [
        "<a href=\"https://colab.research.google.com/github/rafaelmgr12/UNIVESP-AlgeProg2/blob/master/apendice/Pandas/Pandas%20Exercises/Exercicios_Compras_de_Ecomerce.ipynb\" target=\"_parent\"><img src=\"https://colab.research.google.com/assets/colab-badge.svg\" alt=\"Open In Colab\"/></a>"
      ]
    },
    {
      "cell_type": "markdown",
      "metadata": {
        "id": "6PYbFRuziTRE"
      },
      "source": [
        "\n",
        "# Exercício - Compras de Ecommerce  \n",
        "\n",
        "Neste exercício, você receberá alguns dados falsos sobre algumas compras feitas pela Amazon! Basta seguir as instruções e tente dar melhor para responder as perguntas e completar as tarefas. Sinta-se a vontade para dar uma olhada nas soluções. A maioria das tarefas pode ser resolvida de diferentes maneiras. Para a maior parte, as perguntas ficam cada vez mais difíceis.\n",
        "\n",
        "Peço desculpas desde já por todos dados que não parecerem muito reais. São todos falsos.\n",
        "\n",
        "Observe também que todas essas questões podem ser respondidas com uma linha de código.\n",
        "____\n",
        "** Importe pandas e leia o arquivo csv \"Ecommerce Purchases\" e configure-o para um DataFrame chamado ecom. **"
      ]
    },
    {
      "cell_type": "markdown",
      "metadata": {
        "id": "i8m9ra_pbrSw"
      },
      "source": [
        "# Setup Collab\n"
      ]
    },
    {
      "cell_type": "code",
      "metadata": {
        "id": "EToCvzoobrCN"
      },
      "source": [
        "try:\n",
        "    import google.colab\n",
        "    IN_COLAB = True\n",
        "except:\n",
        "    IN_COLAB = False\n",
        "if IN_COLAB:\n",
        "    print(\"Baixando Arquivos que serão usadas nesse notebook\")\n",
        "    ! wget https://raw.githubusercontent.com/rafaelmgr12/UNIVESP-AlgeProg2/master/apendice/Pandas/Pandas%20Exercises/Ecommerce%20Purchases -O Ecommerce Purchases\n",
        "    \n"
      ],
      "execution_count": null,
      "outputs": []
    },
    {
      "cell_type": "code",
      "metadata": {
        "id": "moROKY_-i-b3"
      },
      "source": [
        "# Achando os arquvivos\n",
        "try:\n",
        "    import google.colab\n",
        "    IN_COLAB = True\n",
        "except:\n",
        "    IN_COLAB = False\n",
        "if IN_COLAB:\n",
        "  path = '/content/Ecommerce'\n",
        "else:\n",
        "  path = 'Ecommerce Purchases'\n"
      ],
      "execution_count": null,
      "outputs": []
    },
    {
      "cell_type": "code",
      "metadata": {
        "id": "oIC23ClgiTRH"
      },
      "source": [
        "import pandas as pd"
      ],
      "execution_count": null,
      "outputs": []
    },
    {
      "cell_type": "code",
      "metadata": {
        "id": "Vr_HFsNPiTRM"
      },
      "source": [
        "ecom = pd.read_csv(path) # pd.read* já le como data frame\n"
      ],
      "execution_count": null,
      "outputs": []
    },
    {
      "cell_type": "markdown",
      "metadata": {
        "id": "47GXt-jmiTRR"
      },
      "source": [
        "**Verifique o \"head\" do DataFrame.**"
      ]
    },
    {
      "cell_type": "code",
      "metadata": {
        "id": "brRIfJVyiTRS"
      },
      "source": [
        ""
      ],
      "execution_count": null,
      "outputs": []
    },
    {
      "cell_type": "markdown",
      "metadata": {
        "id": "aqHFg-Q7iTRp"
      },
      "source": [
        "** Quantas linhas e colunas existem? **"
      ]
    },
    {
      "cell_type": "code",
      "metadata": {
        "id": "98p_-5upiTRq"
      },
      "source": [
        ""
      ],
      "execution_count": null,
      "outputs": []
    },
    {
      "cell_type": "markdown",
      "metadata": {
        "id": "HqcG95bviTRv"
      },
      "source": [
        "** Qual é o preço de compra médio? **"
      ]
    },
    {
      "cell_type": "code",
      "metadata": {
        "id": "0Xta0xGciTRw"
      },
      "source": [
        ""
      ],
      "execution_count": null,
      "outputs": []
    },
    {
      "cell_type": "markdown",
      "metadata": {
        "id": "zdd7_tv2iTSA"
      },
      "source": [
        "** Quais foram os preços de compra mais altos e mais baixos? **"
      ]
    },
    {
      "cell_type": "code",
      "metadata": {
        "id": "a_KoCiOMiTSE"
      },
      "source": [
        ""
      ],
      "execution_count": null,
      "outputs": []
    },
    {
      "cell_type": "code",
      "metadata": {
        "id": "d-i8dqQyiTSS"
      },
      "source": [
        ""
      ],
      "execution_count": null,
      "outputs": []
    },
    {
      "cell_type": "markdown",
      "metadata": {
        "id": "CRN1WxXaiTSa"
      },
      "source": [
        "** Quantas pessoas têm Inglês 'en' como sua língua de escolha no site? **"
      ]
    },
    {
      "cell_type": "code",
      "metadata": {
        "id": "IGAYgppyiTSb"
      },
      "source": [
        ""
      ],
      "execution_count": null,
      "outputs": []
    },
    {
      "cell_type": "markdown",
      "metadata": {
        "id": "EzzGLpy6iTSf"
      },
      "source": [
        "** Quantas pessoas têm o cargo de \"Advogado\"? **"
      ]
    },
    {
      "cell_type": "code",
      "metadata": {
        "id": "BwOfZMidiTSg"
      },
      "source": [
        ""
      ],
      "execution_count": null,
      "outputs": []
    },
    {
      "cell_type": "markdown",
      "metadata": {
        "id": "OpoIdziFiTSs"
      },
      "source": [
        "** Quantas pessoas fizeram a compra durante a AM e quantas pessoas fizeram a compra durante o PM? **\n",
        "\n",
        "** (Sugestão: Confira [value_counts ()](http://pandas.pydata.org/pandas-docs/stable/generated/pandas.Series.value_counts.html)) **"
      ]
    },
    {
      "cell_type": "code",
      "metadata": {
        "id": "C8AT7MhgiTSt"
      },
      "source": [
        ""
      ],
      "execution_count": null,
      "outputs": []
    },
    {
      "cell_type": "markdown",
      "metadata": {
        "id": "p1woP6L0iTSy"
      },
      "source": [
        "** Quais são os 5 títulos de trabalho mais comuns? **"
      ]
    },
    {
      "cell_type": "code",
      "metadata": {
        "id": "OzEl75NDiTSz"
      },
      "source": [
        ""
      ],
      "execution_count": null,
      "outputs": []
    },
    {
      "cell_type": "markdown",
      "metadata": {
        "id": "-Sr3od7DiTS5"
      },
      "source": [
        "** Alguém fez uma compra que veio do Lot: \"90 WT\", qual foi o preço de compra para esta transação? **"
      ]
    },
    {
      "cell_type": "code",
      "metadata": {
        "id": "DigvfUk1iTS6"
      },
      "source": [
        ""
      ],
      "execution_count": null,
      "outputs": []
    },
    {
      "cell_type": "markdown",
      "metadata": {
        "id": "4_7bzueoiTTG"
      },
      "source": [
        "** Qual é o email da pessoa com o seguinte número do cartão de crédito: 4926535242672853 **"
      ]
    },
    {
      "cell_type": "code",
      "metadata": {
        "id": "lx7v6ATuiTTI"
      },
      "source": [
        ""
      ],
      "execution_count": null,
      "outputs": []
    },
    {
      "cell_type": "markdown",
      "metadata": {
        "id": "lpxkDi3_iTTO"
      },
      "source": [
        "** Quantas pessoas têm o American Express como seu fornecedor de cartão de crédito * e * fizeram uma compra acima de US $ 95? **"
      ]
    },
    {
      "cell_type": "code",
      "metadata": {
        "id": "260UqHlxiTTP"
      },
      "source": [
        ""
      ],
      "execution_count": null,
      "outputs": []
    },
    {
      "cell_type": "markdown",
      "metadata": {
        "id": "rSMn24d4iTTU"
      },
      "source": [
        "** Difícil: quantas pessoas tem um cartão de crédito que expira em 2025? **"
      ]
    },
    {
      "cell_type": "code",
      "metadata": {
        "id": "dC0PW8iniTTV"
      },
      "source": [
        ""
      ],
      "execution_count": null,
      "outputs": []
    },
    {
      "cell_type": "markdown",
      "metadata": {
        "id": "1vzKgmCGiTTi"
      },
      "source": [
        "** Difícil: quais são os 5 principais provedores de e-mail / hosts mais populares (por exemplo, gmail.com, yahoo.com, etc ...) **"
      ]
    },
    {
      "cell_type": "code",
      "metadata": {
        "id": "S5CFE6x0iTTj"
      },
      "source": [
        ""
      ],
      "execution_count": null,
      "outputs": []
    }
  ]
}