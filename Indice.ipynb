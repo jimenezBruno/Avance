{
  "nbformat": 4,
  "nbformat_minor": 0,
  "metadata": {
    "colab": {
      "name": "Indice.ipynb",
      "provenance": [],
      "private_outputs": true,
      "collapsed_sections": [],
      "include_colab_link": true
    },
    "kernelspec": {
      "display_name": "Python 3",
      "language": "python",
      "name": "python3"
    },
    "language_info": {
      "codemirror_mode": {
        "name": "ipython",
        "version": 3
      },
      "file_extension": ".py",
      "mimetype": "text/x-python",
      "name": "python",
      "nbconvert_exporter": "python",
      "pygments_lexer": "ipython3",
      "version": "3.6.9"
    }
  },
  "cells": [
    {
      "cell_type": "markdown",
      "metadata": {
        "id": "view-in-github",
        "colab_type": "text"
      },
      "source": [
        "<a href=\"https://colab.research.google.com/github/rafaelmgr12/UNIVESP-AlgeProg2/blob/master/Indice.ipynb\" target=\"_parent\"><img src=\"https://colab.research.google.com/assets/colab-badge.svg\" alt=\"Open In Colab\"/></a>"
      ]
    },
    {
      "cell_type": "markdown",
      "metadata": {
        "id": "OB6GWxO2ICBo"
      },
      "source": [
        "# ALGORITMOS E PROGRAMAÇÃO DE COMPUTADORES I\n",
        "\n"
      ]
    },
    {
      "cell_type": "markdown",
      "metadata": {
        "id": "QiOuptRjICG7"
      },
      "source": [
        "![UNIVESP](https://jeonline.com.br/site/uploads/posts/univesp-disponibiliza-50-vagas-para-curso-superior-gratuito-em-ibiuna-6ca9eef2f739af8df0eb8f1d2ce9b8f2.jpg)\n"
      ]
    },
    {
      "cell_type": "markdown",
      "metadata": {
        "id": "xHQJRDQPICFP"
      },
      "source": [
        "## Conteúdo\n",
        "\n",
        "### [1. Semana 1]()\n",
        "### [2. Semana 2]()\n",
        "### [3. Semana 3]()\n",
        "### [4. Semana 4]()\n",
        "### [5. Semana 5]()\n",
        "### [6. Semana 6]()\n",
        "### [7. Semana 7]()\n",
        "### [8. Semana 8]()\n",
        "### [9. Apêndice]()\n",
        "  - Biblioteca Pandas\n",
        "    * [Series](https://colab.research.google.com/github/rafaelmgr12/UNIVESP-AlgeProg2/blob/master/apendice/Pandas/Series.ipynb)\n",
        "    * [DataFrames](https://colab.research.google.com/github/rafaelmgr12/UNIVESP-AlgeProg2/blob/master/apendice/Pandas/DataFrames.ipynb)\n",
        "    * [Dados ausentes](https://colab.research.google.com/github/rafaelmgr12/UNIVESP-AlgeProg2/blob/master/apendice/Pandas/Dados_ausentes.ipynb)\n",
        "    * [GroupBy](https://colab.research.google.com/github/rafaelmgr12/UNIVESP-AlgeProg2/blob/master/apendice/Pandas/Groupby.ipynb)\n",
        "    * [Mesclar,Juntar, e Concatenar](https://colab.research.google.com/github/rafaelmgr12/UNIVESP-AlgeProg2/blob/master/apendice/Pandas/Mesclar%2C_Juntar_e_Concatenar.ipynb)\n",
        "    * [Operações](https://colab.research.google.com/github/rafaelmgr12/UNIVESP-AlgeProg2/blob/master/apendice/Pandas/Opera%C3%A7oes.ipynb)\n",
        "    * [Entrada e saída de dados](https://colab.research.google.com/github/rafaelmgr12/UNIVESP-AlgeProg2/blob/master/apendice/Pandas/Entrada_e_sa%C3%ADda_de_dados.ipynb)\n",
        "    * Exercicios\n",
        "      - [Salarios de São Francisco](https://colab.research.google.com/github/rafaelmgr12/UNIVESP-AlgeProg2/blob/master/apendice/Pandas/Pandas%20Exercises/Exerc%C3%ADcios_Salarios_de_Sao_Francisco.ipynb)\n",
        "      -[Compras de Ecommerce](https://colab.research.google.com/github/rafaelmgr12/UNIVESP-AlgeProg2/blob/master/apendice/Pandas/Pandas%20Exercises/Exercicios_Compras_de_Ecomerce.ipynb)"
      ]
    }
  ]
}